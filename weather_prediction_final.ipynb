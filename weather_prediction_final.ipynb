{
 "cells": [
  {
   "cell_type": "markdown",
   "id": "0c340b08",
   "metadata": {},
   "source": [
    "# Importing Libraries"
   ]
  },
  {
   "cell_type": "code",
   "execution_count": 139,
   "id": "5d61bfb0",
   "metadata": {},
   "outputs": [],
   "source": [
    "#Data Preprocessing\n",
    "import numpy as np \n",
    "import pandas as pd \n",
    "\n",
    "import time\n",
    "import pandas as pd\n",
    "import numpy as np\n",
    "import nltk\n",
    "from matplotlib import pyplot as plt\n",
    "from nltk.corpus import stopwords\n",
    "from nltk.stem.porter import PorterStemmer\n",
    "from sklearn.feature_extraction.text import TfidfVectorizer\n",
    "from sklearn.pipeline import Pipeline\n",
    "from sklearn.model_selection import train_test_split\n",
    "from sklearn.model_selection import cross_val_score\n",
    "from sklearn.metrics import accuracy_score\n",
    "from sklearn.metrics import roc_curve\n",
    "from sklearn.metrics import f1_score\n",
    "from sklearn.metrics import roc_auc_score\n",
    "from sklearn.metrics import precision_score\n",
    "from sklearn.metrics import recall_score\n",
    "from sklearn.metrics import classification_report\n",
    "\n",
    "from sklearn import metrics\n",
    "from sklearn.metrics import confusion_matrix\n",
    "import seaborn as sns\n",
    "\n",
    "# Modelling\n",
    "from sklearn.ensemble import RandomForestClassifier\n",
    "from sklearn.metrics import accuracy_score, confusion_matrix, precision_score, recall_score, ConfusionMatrixDisplay\n",
    "from sklearn.model_selection import RandomizedSearchCV, train_test_split\n",
    "from scipy.stats import randint\n",
    "\n",
    "# Tree Visualisation\n",
    "from sklearn.tree import export_graphviz\n",
    "from IPython.display import Image\n",
    "import graphviz"
   ]
  },
  {
   "cell_type": "code",
   "execution_count": 140,
   "id": "884fa05e",
   "metadata": {},
   "outputs": [],
   "source": [
    "data_frame = pd.read_csv('weatherprediction.csv') "
   ]
  },
  {
   "cell_type": "code",
   "execution_count": 141,
   "id": "ef3aa094",
   "metadata": {},
   "outputs": [
    {
     "name": "stdout",
     "output_type": "stream",
     "text": [
      "<class 'pandas.core.frame.DataFrame'>\n",
      "RangeIndex: 1461 entries, 0 to 1460\n",
      "Data columns (total 6 columns):\n",
      " #   Column         Non-Null Count  Dtype  \n",
      "---  ------         --------------  -----  \n",
      " 0   date           1461 non-null   object \n",
      " 1   precipitation  1461 non-null   float64\n",
      " 2   temp_max       1461 non-null   float64\n",
      " 3   temp_min       1461 non-null   float64\n",
      " 4   wind           1461 non-null   float64\n",
      " 5   weather        1461 non-null   object \n",
      "dtypes: float64(4), object(2)\n",
      "memory usage: 68.6+ KB\n"
     ]
    }
   ],
   "source": [
    "data_frame.info()"
   ]
  },
  {
   "cell_type": "code",
   "execution_count": 142,
   "id": "73616bd3",
   "metadata": {},
   "outputs": [
    {
     "data": {
      "text/html": [
       "<div>\n",
       "<style scoped>\n",
       "    .dataframe tbody tr th:only-of-type {\n",
       "        vertical-align: middle;\n",
       "    }\n",
       "\n",
       "    .dataframe tbody tr th {\n",
       "        vertical-align: top;\n",
       "    }\n",
       "\n",
       "    .dataframe thead th {\n",
       "        text-align: right;\n",
       "    }\n",
       "</style>\n",
       "<table border=\"1\" class=\"dataframe\">\n",
       "  <thead>\n",
       "    <tr style=\"text-align: right;\">\n",
       "      <th></th>\n",
       "      <th>date</th>\n",
       "      <th>precipitation</th>\n",
       "      <th>temp_max</th>\n",
       "      <th>temp_min</th>\n",
       "      <th>wind</th>\n",
       "      <th>weather</th>\n",
       "    </tr>\n",
       "  </thead>\n",
       "  <tbody>\n",
       "    <tr>\n",
       "      <th>0</th>\n",
       "      <td>2012-01-01</td>\n",
       "      <td>0.0</td>\n",
       "      <td>12.8</td>\n",
       "      <td>5.0</td>\n",
       "      <td>4.7</td>\n",
       "      <td>drizzle</td>\n",
       "    </tr>\n",
       "    <tr>\n",
       "      <th>1</th>\n",
       "      <td>2012-01-02</td>\n",
       "      <td>10.9</td>\n",
       "      <td>10.6</td>\n",
       "      <td>2.8</td>\n",
       "      <td>4.5</td>\n",
       "      <td>rain</td>\n",
       "    </tr>\n",
       "    <tr>\n",
       "      <th>2</th>\n",
       "      <td>2012-01-03</td>\n",
       "      <td>0.8</td>\n",
       "      <td>11.7</td>\n",
       "      <td>7.2</td>\n",
       "      <td>2.3</td>\n",
       "      <td>rain</td>\n",
       "    </tr>\n",
       "    <tr>\n",
       "      <th>3</th>\n",
       "      <td>2012-01-04</td>\n",
       "      <td>20.3</td>\n",
       "      <td>12.2</td>\n",
       "      <td>5.6</td>\n",
       "      <td>4.7</td>\n",
       "      <td>rain</td>\n",
       "    </tr>\n",
       "    <tr>\n",
       "      <th>4</th>\n",
       "      <td>2012-01-05</td>\n",
       "      <td>1.3</td>\n",
       "      <td>8.9</td>\n",
       "      <td>2.8</td>\n",
       "      <td>6.1</td>\n",
       "      <td>rain</td>\n",
       "    </tr>\n",
       "  </tbody>\n",
       "</table>\n",
       "</div>"
      ],
      "text/plain": [
       "         date  precipitation  temp_max  temp_min  wind  weather\n",
       "0  2012-01-01            0.0      12.8       5.0   4.7  drizzle\n",
       "1  2012-01-02           10.9      10.6       2.8   4.5     rain\n",
       "2  2012-01-03            0.8      11.7       7.2   2.3     rain\n",
       "3  2012-01-04           20.3      12.2       5.6   4.7     rain\n",
       "4  2012-01-05            1.3       8.9       2.8   6.1     rain"
      ]
     },
     "execution_count": 142,
     "metadata": {},
     "output_type": "execute_result"
    }
   ],
   "source": [
    "data_frame.head()"
   ]
  },
  {
   "cell_type": "code",
   "execution_count": 143,
   "id": "0760d504",
   "metadata": {},
   "outputs": [
    {
     "data": {
      "text/plain": [
       "date             0\n",
       "precipitation    0\n",
       "temp_max         0\n",
       "temp_min         0\n",
       "wind             0\n",
       "weather          0\n",
       "dtype: int64"
      ]
     },
     "execution_count": 143,
     "metadata": {},
     "output_type": "execute_result"
    }
   ],
   "source": [
    "data_frame.isnull().sum() #checking for null values in the dataset"
   ]
  },
  {
   "cell_type": "code",
   "execution_count": 144,
   "id": "a2a2086d",
   "metadata": {},
   "outputs": [
    {
     "data": {
      "text/html": [
       "<div>\n",
       "<style scoped>\n",
       "    .dataframe tbody tr th:only-of-type {\n",
       "        vertical-align: middle;\n",
       "    }\n",
       "\n",
       "    .dataframe tbody tr th {\n",
       "        vertical-align: top;\n",
       "    }\n",
       "\n",
       "    .dataframe thead th {\n",
       "        text-align: right;\n",
       "    }\n",
       "</style>\n",
       "<table border=\"1\" class=\"dataframe\">\n",
       "  <thead>\n",
       "    <tr style=\"text-align: right;\">\n",
       "      <th></th>\n",
       "      <th>date</th>\n",
       "      <th>precipitation</th>\n",
       "      <th>temp_max</th>\n",
       "      <th>temp_min</th>\n",
       "      <th>wind</th>\n",
       "      <th>weather</th>\n",
       "    </tr>\n",
       "  </thead>\n",
       "  <tbody>\n",
       "    <tr>\n",
       "      <th>0</th>\n",
       "      <td>2012-01-01</td>\n",
       "      <td>0.0</td>\n",
       "      <td>12.8</td>\n",
       "      <td>5.0</td>\n",
       "      <td>4.7</td>\n",
       "      <td>drizzle</td>\n",
       "    </tr>\n",
       "    <tr>\n",
       "      <th>1</th>\n",
       "      <td>2012-01-02</td>\n",
       "      <td>10.9</td>\n",
       "      <td>10.6</td>\n",
       "      <td>2.8</td>\n",
       "      <td>4.5</td>\n",
       "      <td>rain</td>\n",
       "    </tr>\n",
       "    <tr>\n",
       "      <th>2</th>\n",
       "      <td>2012-01-03</td>\n",
       "      <td>0.8</td>\n",
       "      <td>11.7</td>\n",
       "      <td>7.2</td>\n",
       "      <td>2.3</td>\n",
       "      <td>rain</td>\n",
       "    </tr>\n",
       "    <tr>\n",
       "      <th>3</th>\n",
       "      <td>2012-01-04</td>\n",
       "      <td>20.3</td>\n",
       "      <td>12.2</td>\n",
       "      <td>5.6</td>\n",
       "      <td>4.7</td>\n",
       "      <td>rain</td>\n",
       "    </tr>\n",
       "    <tr>\n",
       "      <th>4</th>\n",
       "      <td>2012-01-05</td>\n",
       "      <td>1.3</td>\n",
       "      <td>8.9</td>\n",
       "      <td>2.8</td>\n",
       "      <td>6.1</td>\n",
       "      <td>rain</td>\n",
       "    </tr>\n",
       "    <tr>\n",
       "      <th>...</th>\n",
       "      <td>...</td>\n",
       "      <td>...</td>\n",
       "      <td>...</td>\n",
       "      <td>...</td>\n",
       "      <td>...</td>\n",
       "      <td>...</td>\n",
       "    </tr>\n",
       "    <tr>\n",
       "      <th>1456</th>\n",
       "      <td>2015-12-27</td>\n",
       "      <td>8.6</td>\n",
       "      <td>4.4</td>\n",
       "      <td>1.7</td>\n",
       "      <td>2.9</td>\n",
       "      <td>rain</td>\n",
       "    </tr>\n",
       "    <tr>\n",
       "      <th>1457</th>\n",
       "      <td>2015-12-28</td>\n",
       "      <td>1.5</td>\n",
       "      <td>5.0</td>\n",
       "      <td>1.7</td>\n",
       "      <td>1.3</td>\n",
       "      <td>rain</td>\n",
       "    </tr>\n",
       "    <tr>\n",
       "      <th>1458</th>\n",
       "      <td>2015-12-29</td>\n",
       "      <td>0.0</td>\n",
       "      <td>7.2</td>\n",
       "      <td>0.6</td>\n",
       "      <td>2.6</td>\n",
       "      <td>fog</td>\n",
       "    </tr>\n",
       "    <tr>\n",
       "      <th>1459</th>\n",
       "      <td>2015-12-30</td>\n",
       "      <td>0.0</td>\n",
       "      <td>5.6</td>\n",
       "      <td>-1.0</td>\n",
       "      <td>3.4</td>\n",
       "      <td>sun</td>\n",
       "    </tr>\n",
       "    <tr>\n",
       "      <th>1460</th>\n",
       "      <td>2015-12-31</td>\n",
       "      <td>0.0</td>\n",
       "      <td>5.6</td>\n",
       "      <td>-2.1</td>\n",
       "      <td>3.5</td>\n",
       "      <td>sun</td>\n",
       "    </tr>\n",
       "  </tbody>\n",
       "</table>\n",
       "<p>1461 rows × 6 columns</p>\n",
       "</div>"
      ],
      "text/plain": [
       "           date  precipitation  temp_max  temp_min  wind  weather\n",
       "0    2012-01-01            0.0      12.8       5.0   4.7  drizzle\n",
       "1    2012-01-02           10.9      10.6       2.8   4.5     rain\n",
       "2    2012-01-03            0.8      11.7       7.2   2.3     rain\n",
       "3    2012-01-04           20.3      12.2       5.6   4.7     rain\n",
       "4    2012-01-05            1.3       8.9       2.8   6.1     rain\n",
       "...         ...            ...       ...       ...   ...      ...\n",
       "1456 2015-12-27            8.6       4.4       1.7   2.9     rain\n",
       "1457 2015-12-28            1.5       5.0       1.7   1.3     rain\n",
       "1458 2015-12-29            0.0       7.2       0.6   2.6      fog\n",
       "1459 2015-12-30            0.0       5.6      -1.0   3.4      sun\n",
       "1460 2015-12-31            0.0       5.6      -2.1   3.5      sun\n",
       "\n",
       "[1461 rows x 6 columns]"
      ]
     },
     "execution_count": 144,
     "metadata": {},
     "output_type": "execute_result"
    }
   ],
   "source": [
    "# Since date is of data type object, we will convert into datetime data type using pandas library\n",
    "data_frame['date'] = pd.to_datetime(data_frame['date'])\n",
    "data_frame"
   ]
  },
  {
   "cell_type": "code",
   "execution_count": 145,
   "id": "4f0f9bbe",
   "metadata": {},
   "outputs": [
    {
     "data": {
      "text/html": [
       "<div>\n",
       "<style scoped>\n",
       "    .dataframe tbody tr th:only-of-type {\n",
       "        vertical-align: middle;\n",
       "    }\n",
       "\n",
       "    .dataframe tbody tr th {\n",
       "        vertical-align: top;\n",
       "    }\n",
       "\n",
       "    .dataframe thead th {\n",
       "        text-align: right;\n",
       "    }\n",
       "</style>\n",
       "<table border=\"1\" class=\"dataframe\">\n",
       "  <thead>\n",
       "    <tr style=\"text-align: right;\">\n",
       "      <th></th>\n",
       "      <th>date</th>\n",
       "      <th>precipitation</th>\n",
       "      <th>temp_max</th>\n",
       "      <th>temp_min</th>\n",
       "      <th>wind</th>\n",
       "      <th>weather</th>\n",
       "      <th>year</th>\n",
       "      <th>month</th>\n",
       "      <th>day</th>\n",
       "    </tr>\n",
       "  </thead>\n",
       "  <tbody>\n",
       "    <tr>\n",
       "      <th>0</th>\n",
       "      <td>2012-01-01</td>\n",
       "      <td>0.0</td>\n",
       "      <td>12.8</td>\n",
       "      <td>5.0</td>\n",
       "      <td>4.7</td>\n",
       "      <td>drizzle</td>\n",
       "      <td>2012</td>\n",
       "      <td>1</td>\n",
       "      <td>1</td>\n",
       "    </tr>\n",
       "    <tr>\n",
       "      <th>1</th>\n",
       "      <td>2012-01-02</td>\n",
       "      <td>10.9</td>\n",
       "      <td>10.6</td>\n",
       "      <td>2.8</td>\n",
       "      <td>4.5</td>\n",
       "      <td>rain</td>\n",
       "      <td>2012</td>\n",
       "      <td>1</td>\n",
       "      <td>2</td>\n",
       "    </tr>\n",
       "    <tr>\n",
       "      <th>2</th>\n",
       "      <td>2012-01-03</td>\n",
       "      <td>0.8</td>\n",
       "      <td>11.7</td>\n",
       "      <td>7.2</td>\n",
       "      <td>2.3</td>\n",
       "      <td>rain</td>\n",
       "      <td>2012</td>\n",
       "      <td>1</td>\n",
       "      <td>3</td>\n",
       "    </tr>\n",
       "    <tr>\n",
       "      <th>3</th>\n",
       "      <td>2012-01-04</td>\n",
       "      <td>20.3</td>\n",
       "      <td>12.2</td>\n",
       "      <td>5.6</td>\n",
       "      <td>4.7</td>\n",
       "      <td>rain</td>\n",
       "      <td>2012</td>\n",
       "      <td>1</td>\n",
       "      <td>4</td>\n",
       "    </tr>\n",
       "    <tr>\n",
       "      <th>4</th>\n",
       "      <td>2012-01-05</td>\n",
       "      <td>1.3</td>\n",
       "      <td>8.9</td>\n",
       "      <td>2.8</td>\n",
       "      <td>6.1</td>\n",
       "      <td>rain</td>\n",
       "      <td>2012</td>\n",
       "      <td>1</td>\n",
       "      <td>5</td>\n",
       "    </tr>\n",
       "  </tbody>\n",
       "</table>\n",
       "</div>"
      ],
      "text/plain": [
       "        date  precipitation  temp_max  temp_min  wind  weather  year  month  \\\n",
       "0 2012-01-01            0.0      12.8       5.0   4.7  drizzle  2012      1   \n",
       "1 2012-01-02           10.9      10.6       2.8   4.5     rain  2012      1   \n",
       "2 2012-01-03            0.8      11.7       7.2   2.3     rain  2012      1   \n",
       "3 2012-01-04           20.3      12.2       5.6   4.7     rain  2012      1   \n",
       "4 2012-01-05            1.3       8.9       2.8   6.1     rain  2012      1   \n",
       "\n",
       "   day  \n",
       "0    1  \n",
       "1    2  \n",
       "2    3  \n",
       "3    4  \n",
       "4    5  "
      ]
     },
     "execution_count": 145,
     "metadata": {},
     "output_type": "execute_result"
    }
   ],
   "source": [
    "# Creating three separate columns for year, month and day\n",
    "data_frame['year'] = data_frame['date'].dt.year #Generate Year Column\n",
    "data_frame['month'] = data_frame['date'].dt.month #Generate Month Column\n",
    "data_frame['day'] = data_frame['date'].dt.day\n",
    "\n",
    "data_frame.head()"
   ]
  },
  {
   "cell_type": "code",
   "execution_count": 146,
   "id": "4cc1efd4",
   "metadata": {},
   "outputs": [
    {
     "data": {
      "text/html": [
       "<div>\n",
       "<style scoped>\n",
       "    .dataframe tbody tr th:only-of-type {\n",
       "        vertical-align: middle;\n",
       "    }\n",
       "\n",
       "    .dataframe tbody tr th {\n",
       "        vertical-align: top;\n",
       "    }\n",
       "\n",
       "    .dataframe thead th {\n",
       "        text-align: right;\n",
       "    }\n",
       "</style>\n",
       "<table border=\"1\" class=\"dataframe\">\n",
       "  <thead>\n",
       "    <tr style=\"text-align: right;\">\n",
       "      <th></th>\n",
       "      <th>date</th>\n",
       "      <th>precipitation</th>\n",
       "      <th>temp_max</th>\n",
       "      <th>temp_min</th>\n",
       "      <th>wind</th>\n",
       "      <th>weather</th>\n",
       "      <th>year</th>\n",
       "      <th>month</th>\n",
       "      <th>day</th>\n",
       "      <th>label_weather</th>\n",
       "    </tr>\n",
       "  </thead>\n",
       "  <tbody>\n",
       "    <tr>\n",
       "      <th>0</th>\n",
       "      <td>2012-01-01</td>\n",
       "      <td>0.0</td>\n",
       "      <td>12.8</td>\n",
       "      <td>5.0</td>\n",
       "      <td>4.7</td>\n",
       "      <td>drizzle</td>\n",
       "      <td>2012</td>\n",
       "      <td>1</td>\n",
       "      <td>1</td>\n",
       "      <td>0</td>\n",
       "    </tr>\n",
       "    <tr>\n",
       "      <th>1</th>\n",
       "      <td>2012-01-02</td>\n",
       "      <td>10.9</td>\n",
       "      <td>10.6</td>\n",
       "      <td>2.8</td>\n",
       "      <td>4.5</td>\n",
       "      <td>rain</td>\n",
       "      <td>2012</td>\n",
       "      <td>1</td>\n",
       "      <td>2</td>\n",
       "      <td>2</td>\n",
       "    </tr>\n",
       "    <tr>\n",
       "      <th>2</th>\n",
       "      <td>2012-01-03</td>\n",
       "      <td>0.8</td>\n",
       "      <td>11.7</td>\n",
       "      <td>7.2</td>\n",
       "      <td>2.3</td>\n",
       "      <td>rain</td>\n",
       "      <td>2012</td>\n",
       "      <td>1</td>\n",
       "      <td>3</td>\n",
       "      <td>2</td>\n",
       "    </tr>\n",
       "    <tr>\n",
       "      <th>3</th>\n",
       "      <td>2012-01-04</td>\n",
       "      <td>20.3</td>\n",
       "      <td>12.2</td>\n",
       "      <td>5.6</td>\n",
       "      <td>4.7</td>\n",
       "      <td>rain</td>\n",
       "      <td>2012</td>\n",
       "      <td>1</td>\n",
       "      <td>4</td>\n",
       "      <td>2</td>\n",
       "    </tr>\n",
       "    <tr>\n",
       "      <th>4</th>\n",
       "      <td>2012-01-05</td>\n",
       "      <td>1.3</td>\n",
       "      <td>8.9</td>\n",
       "      <td>2.8</td>\n",
       "      <td>6.1</td>\n",
       "      <td>rain</td>\n",
       "      <td>2012</td>\n",
       "      <td>1</td>\n",
       "      <td>5</td>\n",
       "      <td>2</td>\n",
       "    </tr>\n",
       "    <tr>\n",
       "      <th>5</th>\n",
       "      <td>2012-01-06</td>\n",
       "      <td>2.5</td>\n",
       "      <td>4.4</td>\n",
       "      <td>2.2</td>\n",
       "      <td>2.2</td>\n",
       "      <td>rain</td>\n",
       "      <td>2012</td>\n",
       "      <td>1</td>\n",
       "      <td>6</td>\n",
       "      <td>2</td>\n",
       "    </tr>\n",
       "    <tr>\n",
       "      <th>6</th>\n",
       "      <td>2012-01-07</td>\n",
       "      <td>0.0</td>\n",
       "      <td>7.2</td>\n",
       "      <td>2.8</td>\n",
       "      <td>2.3</td>\n",
       "      <td>rain</td>\n",
       "      <td>2012</td>\n",
       "      <td>1</td>\n",
       "      <td>7</td>\n",
       "      <td>2</td>\n",
       "    </tr>\n",
       "    <tr>\n",
       "      <th>7</th>\n",
       "      <td>2012-01-08</td>\n",
       "      <td>0.0</td>\n",
       "      <td>10.0</td>\n",
       "      <td>2.8</td>\n",
       "      <td>2.0</td>\n",
       "      <td>sun</td>\n",
       "      <td>2012</td>\n",
       "      <td>1</td>\n",
       "      <td>8</td>\n",
       "      <td>4</td>\n",
       "    </tr>\n",
       "    <tr>\n",
       "      <th>8</th>\n",
       "      <td>2012-01-09</td>\n",
       "      <td>4.3</td>\n",
       "      <td>9.4</td>\n",
       "      <td>5.0</td>\n",
       "      <td>3.4</td>\n",
       "      <td>rain</td>\n",
       "      <td>2012</td>\n",
       "      <td>1</td>\n",
       "      <td>9</td>\n",
       "      <td>2</td>\n",
       "    </tr>\n",
       "    <tr>\n",
       "      <th>9</th>\n",
       "      <td>2012-01-10</td>\n",
       "      <td>1.0</td>\n",
       "      <td>6.1</td>\n",
       "      <td>0.6</td>\n",
       "      <td>3.4</td>\n",
       "      <td>rain</td>\n",
       "      <td>2012</td>\n",
       "      <td>1</td>\n",
       "      <td>10</td>\n",
       "      <td>2</td>\n",
       "    </tr>\n",
       "  </tbody>\n",
       "</table>\n",
       "</div>"
      ],
      "text/plain": [
       "        date  precipitation  temp_max  temp_min  wind  weather  year  month  \\\n",
       "0 2012-01-01            0.0      12.8       5.0   4.7  drizzle  2012      1   \n",
       "1 2012-01-02           10.9      10.6       2.8   4.5     rain  2012      1   \n",
       "2 2012-01-03            0.8      11.7       7.2   2.3     rain  2012      1   \n",
       "3 2012-01-04           20.3      12.2       5.6   4.7     rain  2012      1   \n",
       "4 2012-01-05            1.3       8.9       2.8   6.1     rain  2012      1   \n",
       "5 2012-01-06            2.5       4.4       2.2   2.2     rain  2012      1   \n",
       "6 2012-01-07            0.0       7.2       2.8   2.3     rain  2012      1   \n",
       "7 2012-01-08            0.0      10.0       2.8   2.0      sun  2012      1   \n",
       "8 2012-01-09            4.3       9.4       5.0   3.4     rain  2012      1   \n",
       "9 2012-01-10            1.0       6.1       0.6   3.4     rain  2012      1   \n",
       "\n",
       "   day  label_weather  \n",
       "0    1              0  \n",
       "1    2              2  \n",
       "2    3              2  \n",
       "3    4              2  \n",
       "4    5              2  \n",
       "5    6              2  \n",
       "6    7              2  \n",
       "7    8              4  \n",
       "8    9              2  \n",
       "9   10              2  "
      ]
     },
     "execution_count": 146,
     "metadata": {},
     "output_type": "execute_result"
    }
   ],
   "source": [
    "# Label encoding of 'weather' attribute for further computations\n",
    "from sklearn.preprocessing import LabelEncoder\n",
    "\n",
    "data_frame['label_weather'] = LabelEncoder().fit_transform(data_frame['weather'])\n",
    "data_frame.head(10)"
   ]
  },
  {
   "cell_type": "code",
   "execution_count": 147,
   "id": "3546bf2f",
   "metadata": {},
   "outputs": [
    {
     "data": {
      "text/html": [
       "<div>\n",
       "<style scoped>\n",
       "    .dataframe tbody tr th:only-of-type {\n",
       "        vertical-align: middle;\n",
       "    }\n",
       "\n",
       "    .dataframe tbody tr th {\n",
       "        vertical-align: top;\n",
       "    }\n",
       "\n",
       "    .dataframe thead th {\n",
       "        text-align: right;\n",
       "    }\n",
       "</style>\n",
       "<table border=\"1\" class=\"dataframe\">\n",
       "  <thead>\n",
       "    <tr style=\"text-align: right;\">\n",
       "      <th></th>\n",
       "      <th>date</th>\n",
       "      <th>precipitation</th>\n",
       "      <th>temp_max</th>\n",
       "      <th>temp_min</th>\n",
       "      <th>wind</th>\n",
       "      <th>weather</th>\n",
       "      <th>year</th>\n",
       "      <th>month</th>\n",
       "      <th>day</th>\n",
       "      <th>label_weather</th>\n",
       "    </tr>\n",
       "  </thead>\n",
       "  <tbody>\n",
       "    <tr>\n",
       "      <th>0</th>\n",
       "      <td>1325376000000000000</td>\n",
       "      <td>0.0</td>\n",
       "      <td>12.8</td>\n",
       "      <td>5.0</td>\n",
       "      <td>4.7</td>\n",
       "      <td>drizzle</td>\n",
       "      <td>2012</td>\n",
       "      <td>1</td>\n",
       "      <td>1</td>\n",
       "      <td>0</td>\n",
       "    </tr>\n",
       "    <tr>\n",
       "      <th>1</th>\n",
       "      <td>1325462400000000000</td>\n",
       "      <td>10.9</td>\n",
       "      <td>10.6</td>\n",
       "      <td>2.8</td>\n",
       "      <td>4.5</td>\n",
       "      <td>rain</td>\n",
       "      <td>2012</td>\n",
       "      <td>1</td>\n",
       "      <td>2</td>\n",
       "      <td>2</td>\n",
       "    </tr>\n",
       "    <tr>\n",
       "      <th>2</th>\n",
       "      <td>1325548800000000000</td>\n",
       "      <td>0.8</td>\n",
       "      <td>11.7</td>\n",
       "      <td>7.2</td>\n",
       "      <td>2.3</td>\n",
       "      <td>rain</td>\n",
       "      <td>2012</td>\n",
       "      <td>1</td>\n",
       "      <td>3</td>\n",
       "      <td>2</td>\n",
       "    </tr>\n",
       "    <tr>\n",
       "      <th>3</th>\n",
       "      <td>1325635200000000000</td>\n",
       "      <td>20.3</td>\n",
       "      <td>12.2</td>\n",
       "      <td>5.6</td>\n",
       "      <td>4.7</td>\n",
       "      <td>rain</td>\n",
       "      <td>2012</td>\n",
       "      <td>1</td>\n",
       "      <td>4</td>\n",
       "      <td>2</td>\n",
       "    </tr>\n",
       "    <tr>\n",
       "      <th>4</th>\n",
       "      <td>1325721600000000000</td>\n",
       "      <td>1.3</td>\n",
       "      <td>8.9</td>\n",
       "      <td>2.8</td>\n",
       "      <td>6.1</td>\n",
       "      <td>rain</td>\n",
       "      <td>2012</td>\n",
       "      <td>1</td>\n",
       "      <td>5</td>\n",
       "      <td>2</td>\n",
       "    </tr>\n",
       "    <tr>\n",
       "      <th>...</th>\n",
       "      <td>...</td>\n",
       "      <td>...</td>\n",
       "      <td>...</td>\n",
       "      <td>...</td>\n",
       "      <td>...</td>\n",
       "      <td>...</td>\n",
       "      <td>...</td>\n",
       "      <td>...</td>\n",
       "      <td>...</td>\n",
       "      <td>...</td>\n",
       "    </tr>\n",
       "    <tr>\n",
       "      <th>1456</th>\n",
       "      <td>1451174400000000000</td>\n",
       "      <td>8.6</td>\n",
       "      <td>4.4</td>\n",
       "      <td>1.7</td>\n",
       "      <td>2.9</td>\n",
       "      <td>rain</td>\n",
       "      <td>2015</td>\n",
       "      <td>12</td>\n",
       "      <td>27</td>\n",
       "      <td>2</td>\n",
       "    </tr>\n",
       "    <tr>\n",
       "      <th>1457</th>\n",
       "      <td>1451260800000000000</td>\n",
       "      <td>1.5</td>\n",
       "      <td>5.0</td>\n",
       "      <td>1.7</td>\n",
       "      <td>1.3</td>\n",
       "      <td>rain</td>\n",
       "      <td>2015</td>\n",
       "      <td>12</td>\n",
       "      <td>28</td>\n",
       "      <td>2</td>\n",
       "    </tr>\n",
       "    <tr>\n",
       "      <th>1458</th>\n",
       "      <td>1451347200000000000</td>\n",
       "      <td>0.0</td>\n",
       "      <td>7.2</td>\n",
       "      <td>0.6</td>\n",
       "      <td>2.6</td>\n",
       "      <td>fog</td>\n",
       "      <td>2015</td>\n",
       "      <td>12</td>\n",
       "      <td>29</td>\n",
       "      <td>1</td>\n",
       "    </tr>\n",
       "    <tr>\n",
       "      <th>1459</th>\n",
       "      <td>1451433600000000000</td>\n",
       "      <td>0.0</td>\n",
       "      <td>5.6</td>\n",
       "      <td>-1.0</td>\n",
       "      <td>3.4</td>\n",
       "      <td>sun</td>\n",
       "      <td>2015</td>\n",
       "      <td>12</td>\n",
       "      <td>30</td>\n",
       "      <td>4</td>\n",
       "    </tr>\n",
       "    <tr>\n",
       "      <th>1460</th>\n",
       "      <td>1451520000000000000</td>\n",
       "      <td>0.0</td>\n",
       "      <td>5.6</td>\n",
       "      <td>-2.1</td>\n",
       "      <td>3.5</td>\n",
       "      <td>sun</td>\n",
       "      <td>2015</td>\n",
       "      <td>12</td>\n",
       "      <td>31</td>\n",
       "      <td>4</td>\n",
       "    </tr>\n",
       "  </tbody>\n",
       "</table>\n",
       "<p>1461 rows × 10 columns</p>\n",
       "</div>"
      ],
      "text/plain": [
       "                     date  precipitation  temp_max  temp_min  wind  weather  \\\n",
       "0     1325376000000000000            0.0      12.8       5.0   4.7  drizzle   \n",
       "1     1325462400000000000           10.9      10.6       2.8   4.5     rain   \n",
       "2     1325548800000000000            0.8      11.7       7.2   2.3     rain   \n",
       "3     1325635200000000000           20.3      12.2       5.6   4.7     rain   \n",
       "4     1325721600000000000            1.3       8.9       2.8   6.1     rain   \n",
       "...                   ...            ...       ...       ...   ...      ...   \n",
       "1456  1451174400000000000            8.6       4.4       1.7   2.9     rain   \n",
       "1457  1451260800000000000            1.5       5.0       1.7   1.3     rain   \n",
       "1458  1451347200000000000            0.0       7.2       0.6   2.6      fog   \n",
       "1459  1451433600000000000            0.0       5.6      -1.0   3.4      sun   \n",
       "1460  1451520000000000000            0.0       5.6      -2.1   3.5      sun   \n",
       "\n",
       "      year  month  day  label_weather  \n",
       "0     2012      1    1              0  \n",
       "1     2012      1    2              2  \n",
       "2     2012      1    3              2  \n",
       "3     2012      1    4              2  \n",
       "4     2012      1    5              2  \n",
       "...    ...    ...  ...            ...  \n",
       "1456  2015     12   27              2  \n",
       "1457  2015     12   28              2  \n",
       "1458  2015     12   29              1  \n",
       "1459  2015     12   30              4  \n",
       "1460  2015     12   31              4  \n",
       "\n",
       "[1461 rows x 10 columns]"
      ]
     },
     "execution_count": 147,
     "metadata": {},
     "output_type": "execute_result"
    }
   ],
   "source": [
    "data_frame['date'] = pd.to_numeric(pd.to_datetime(data_frame['date']))\n",
    "data_frame"
   ]
  },
  {
   "cell_type": "code",
   "execution_count": 148,
   "id": "d3fe6835",
   "metadata": {},
   "outputs": [],
   "source": [
    "# Store the weather_label values in y and everything other than label_weather in x\n",
    "\n",
    "x = data_frame.drop(['label_weather'], axis = 1)\n",
    "x = data_frame.drop(['weather'], axis = 1)\n",
    "y = data_frame['label_weather']"
   ]
  },
  {
   "cell_type": "code",
   "execution_count": 149,
   "id": "90644c16",
   "metadata": {},
   "outputs": [
    {
     "name": "stdout",
     "output_type": "stream",
     "text": [
      "(1168, 9)\n",
      "(293, 9)\n",
      "(1168,)\n",
      "(293,)\n"
     ]
    }
   ],
   "source": [
    "from sklearn.model_selection import train_test_split\n",
    "x_train, x_test, y_train, y_test = train_test_split(x, y, test_size = 0.2, random_state = 0)\n",
    "\n",
    "print(x_train.shape)\n",
    "print(x_test.shape)\n",
    "print(y_train.shape)\n",
    "print(y_test.shape)"
   ]
  },
  {
   "cell_type": "code",
   "execution_count": 150,
   "id": "642cb989",
   "metadata": {},
   "outputs": [],
   "source": [
    "from sklearn.preprocessing import StandardScaler\n",
    "sc = StandardScaler()\n",
    "x_train = sc.fit_transform(x_train)\n",
    "x_test = sc.transform(x_test)"
   ]
  },
  {
   "cell_type": "code",
   "execution_count": 151,
   "id": "efe11bef",
   "metadata": {},
   "outputs": [
    {
     "data": {
      "text/html": [
       "<style>#sk-container-id-7 {color: black;background-color: white;}#sk-container-id-7 pre{padding: 0;}#sk-container-id-7 div.sk-toggleable {background-color: white;}#sk-container-id-7 label.sk-toggleable__label {cursor: pointer;display: block;width: 100%;margin-bottom: 0;padding: 0.3em;box-sizing: border-box;text-align: center;}#sk-container-id-7 label.sk-toggleable__label-arrow:before {content: \"▸\";float: left;margin-right: 0.25em;color: #696969;}#sk-container-id-7 label.sk-toggleable__label-arrow:hover:before {color: black;}#sk-container-id-7 div.sk-estimator:hover label.sk-toggleable__label-arrow:before {color: black;}#sk-container-id-7 div.sk-toggleable__content {max-height: 0;max-width: 0;overflow: hidden;text-align: left;background-color: #f0f8ff;}#sk-container-id-7 div.sk-toggleable__content pre {margin: 0.2em;color: black;border-radius: 0.25em;background-color: #f0f8ff;}#sk-container-id-7 input.sk-toggleable__control:checked~div.sk-toggleable__content {max-height: 200px;max-width: 100%;overflow: auto;}#sk-container-id-7 input.sk-toggleable__control:checked~label.sk-toggleable__label-arrow:before {content: \"▾\";}#sk-container-id-7 div.sk-estimator input.sk-toggleable__control:checked~label.sk-toggleable__label {background-color: #d4ebff;}#sk-container-id-7 div.sk-label input.sk-toggleable__control:checked~label.sk-toggleable__label {background-color: #d4ebff;}#sk-container-id-7 input.sk-hidden--visually {border: 0;clip: rect(1px 1px 1px 1px);clip: rect(1px, 1px, 1px, 1px);height: 1px;margin: -1px;overflow: hidden;padding: 0;position: absolute;width: 1px;}#sk-container-id-7 div.sk-estimator {font-family: monospace;background-color: #f0f8ff;border: 1px dotted black;border-radius: 0.25em;box-sizing: border-box;margin-bottom: 0.5em;}#sk-container-id-7 div.sk-estimator:hover {background-color: #d4ebff;}#sk-container-id-7 div.sk-parallel-item::after {content: \"\";width: 100%;border-bottom: 1px solid gray;flex-grow: 1;}#sk-container-id-7 div.sk-label:hover label.sk-toggleable__label {background-color: #d4ebff;}#sk-container-id-7 div.sk-serial::before {content: \"\";position: absolute;border-left: 1px solid gray;box-sizing: border-box;top: 0;bottom: 0;left: 50%;z-index: 0;}#sk-container-id-7 div.sk-serial {display: flex;flex-direction: column;align-items: center;background-color: white;padding-right: 0.2em;padding-left: 0.2em;position: relative;}#sk-container-id-7 div.sk-item {position: relative;z-index: 1;}#sk-container-id-7 div.sk-parallel {display: flex;align-items: stretch;justify-content: center;background-color: white;position: relative;}#sk-container-id-7 div.sk-item::before, #sk-container-id-7 div.sk-parallel-item::before {content: \"\";position: absolute;border-left: 1px solid gray;box-sizing: border-box;top: 0;bottom: 0;left: 50%;z-index: -1;}#sk-container-id-7 div.sk-parallel-item {display: flex;flex-direction: column;z-index: 1;position: relative;background-color: white;}#sk-container-id-7 div.sk-parallel-item:first-child::after {align-self: flex-end;width: 50%;}#sk-container-id-7 div.sk-parallel-item:last-child::after {align-self: flex-start;width: 50%;}#sk-container-id-7 div.sk-parallel-item:only-child::after {width: 0;}#sk-container-id-7 div.sk-dashed-wrapped {border: 1px dashed gray;margin: 0 0.4em 0.5em 0.4em;box-sizing: border-box;padding-bottom: 0.4em;background-color: white;}#sk-container-id-7 div.sk-label label {font-family: monospace;font-weight: bold;display: inline-block;line-height: 1.2em;}#sk-container-id-7 div.sk-label-container {text-align: center;}#sk-container-id-7 div.sk-container {/* jupyter's `normalize.less` sets `[hidden] { display: none; }` but bootstrap.min.css set `[hidden] { display: none !important; }` so we also need the `!important` here to be able to override the default hidden behavior on the sphinx rendered scikit-learn.org. See: https://github.com/scikit-learn/scikit-learn/issues/21755 */display: inline-block !important;position: relative;}#sk-container-id-7 div.sk-text-repr-fallback {display: none;}</style><div id=\"sk-container-id-7\" class=\"sk-top-container\"><div class=\"sk-text-repr-fallback\"><pre>LogisticRegression(random_state=0)</pre><b>In a Jupyter environment, please rerun this cell to show the HTML representation or trust the notebook. <br />On GitHub, the HTML representation is unable to render, please try loading this page with nbviewer.org.</b></div><div class=\"sk-container\" hidden><div class=\"sk-item\"><div class=\"sk-estimator sk-toggleable\"><input class=\"sk-toggleable__control sk-hidden--visually\" id=\"sk-estimator-id-11\" type=\"checkbox\" checked><label for=\"sk-estimator-id-11\" class=\"sk-toggleable__label sk-toggleable__label-arrow\">LogisticRegression</label><div class=\"sk-toggleable__content\"><pre>LogisticRegression(random_state=0)</pre></div></div></div></div></div>"
      ],
      "text/plain": [
       "LogisticRegression(random_state=0)"
      ]
     },
     "execution_count": 151,
     "metadata": {},
     "output_type": "execute_result"
    }
   ],
   "source": [
    "\n",
    "from sklearn.linear_model import LogisticRegression\n",
    "classifier = LogisticRegression(random_state = 0)\n",
    "classifier.fit(x_train, y_train)\n"
   ]
  },
  {
   "cell_type": "code",
   "execution_count": 152,
   "id": "d704bbe8",
   "metadata": {},
   "outputs": [],
   "source": [
    "y_predlr = classifier.predict(x_test)"
   ]
  },
  {
   "cell_type": "code",
   "execution_count": 153,
   "id": "51c98f1f",
   "metadata": {},
   "outputs": [
    {
     "name": "stdout",
     "output_type": "stream",
     "text": [
      "              precision    recall  f1-score   support\n",
      "\n",
      "           0       0.83      1.00      0.91        10\n",
      "           1       1.00      0.90      0.95        29\n",
      "           2       0.99      1.00      1.00       123\n",
      "           3       1.00      1.00      1.00         6\n",
      "           4       1.00      1.00      1.00       125\n",
      "\n",
      "    accuracy                           0.99       293\n",
      "   macro avg       0.97      0.98      0.97       293\n",
      "weighted avg       0.99      0.99      0.99       293\n",
      "\n"
     ]
    }
   ],
   "source": [
    "print(classification_report(y_test, y_predlr))"
   ]
  },
  {
   "cell_type": "code",
   "execution_count": 158,
   "id": "29ae9f38",
   "metadata": {},
   "outputs": [
    {
     "name": "stdout",
     "output_type": "stream",
     "text": [
      "Accuracy Score : 0.99\n",
      "Precision Score : 0.97\n",
      "Recall Score : 0.98\n",
      "F1 Score : 0.97\n"
     ]
    }
   ],
   "source": [
    "print('Accuracy Score : ' + str(round(accuracy_score(y_test, y_predlr), 2)))\n",
    "print('Precision Score : ' + str(round(precision_score(y_test, y_predlr, average='macro'), 2)))\n",
    "print('Recall Score : ' + str(round(recall_score(y_test, y_predlr, average='macro'), 2)))\n",
    "print('F1 Score : ' + str(round(f1_score(y_test, y_predlr, average='macro'), 2)))\n",
    "\n"
   ]
  },
  {
   "cell_type": "code",
   "execution_count": 159,
   "id": "117e164b",
   "metadata": {},
   "outputs": [
    {
     "name": "stdout",
     "output_type": "stream",
     "text": [
      "[[ 10   0   0   0   0]\n",
      " [  2  26   1   0   0]\n",
      " [  0   0 123   0   0]\n",
      " [  0   0   0   6   0]\n",
      " [  0   0   0   0 125]]\n"
     ]
    },
    {
     "data": {
      "image/png": "[encoded data removed]",
      "text/plain": [
       "<Figure size 640x480 with 2 Axes>"
      ]
     },
     "metadata": {},
     "output_type": "display_data"
    }
   ],
   "source": [
    "cf_matrix_lr = confusion_matrix(y_test, y_predlr)\n",
    "print(cf_matrix_lr)\n",
    "\n",
    "ax = sns.heatmap(cf_matrix_lr/np.sum(cf_matrix_lr), annot=True)\n",
    "\n",
    "ax.set_title('Logistic Regression Confusion Matrix\\n\\n');\n",
    "ax.set_xlabel('\\nPredicted Values')\n",
    "ax.set_ylabel('Actual Values ');\n",
    "\n",
    "## Ticket labels - List must be in alphabetical order\n",
    "ax.xaxis.set_ticklabels(['0','1', '2','3','4'])\n",
    "ax.yaxis.set_ticklabels(['0','1', '2','3','4'])\n",
    "\n",
    "## Display the visualization of the Confusion Matrix.\n",
    "plt.show()"
   ]
  },
  {
   "cell_type": "code",
   "execution_count": 160,
   "id": "6e170130",
   "metadata": {},
   "outputs": [],
   "source": [
    "#split dataset in features and target variable\n",
    "feature_cols = ['precipitation', 'temp_max', 'temp_min', 'wind']\n",
    "X = data_frame[feature_cols] # Features\n",
    "y = data_frame.weather # Target variable\n",
    "# Split the data into training and test sets\n",
    "X_train, X_test, y_train, y_test = train_test_split(X, y, test_size=0.3)"
   ]
  },
  {
   "cell_type": "code",
   "execution_count": 161,
   "id": "3f156aa4",
   "metadata": {},
   "outputs": [
    {
     "name": "stdout",
     "output_type": "stream",
     "text": [
      "Accuracy: 0.8496583143507973\n"
     ]
    }
   ],
   "source": [
    "# Random forests are a popular supervised machine learning algorithm. \n",
    "\n",
    "# Random forests are for supervised machine learning, where there is a labeled target variable.\n",
    "# Random forests can be used for solving regression (numeric target variable) and classification (categorical target variable) problems.\n",
    "# Random forests are an ensemble method, meaning they combine predictions from other models.\n",
    "# Each of the smaller models in the random forest ensemble is a decision tree.\n",
    "# Create random forest model\n",
    "from sklearn.ensemble import RandomForestClassifier\n",
    "rf = RandomForestClassifier()\n",
    "rf.fit(X_train, y_train)\n",
    "y_predrf = rf.predict(X_test)\n",
    "accuracy = accuracy_score(y_test, y_predrf)\n",
    "print(\"Accuracy:\", accuracy)\n"
   ]
  },
  {
   "cell_type": "code",
   "execution_count": 162,
   "id": "22e8e946",
   "metadata": {},
   "outputs": [
    {
     "name": "stdout",
     "output_type": "stream",
     "text": [
      "Accuracy Score : 0.85\n",
      "Precision Score : 0.68\n",
      "Recall Score : 0.48\n",
      "F1 Score : 0.51\n"
     ]
    }
   ],
   "source": [
    "print('Accuracy Score : ' + str(round(accuracy_score(y_test, y_predrf), 2)))\n",
    "print('Precision Score : ' + str(round(precision_score(y_test, y_predrf, average='macro'), 2)))\n",
    "print('Recall Score : ' + str(round(recall_score(y_test, y_predrf, average='macro'), 2)))\n",
    "print('F1 Score : ' + str(round(f1_score(y_test, y_predrf, average='macro'), 2)))\n"
   ]
  },
  {
   "cell_type": "code",
   "execution_count": 163,
   "id": "beae1f39",
   "metadata": {},
   "outputs": [
    {
     "data": {
      "image/svg+xml": [
       "<?xml version=\"1.0\" encoding=\"UTF-8\" standalone=\"no\"?>\n",
       "<!DOCTYPE svg PUBLIC \"-//W3C//DTD SVG 1.1//EN\"\n",
       " \"http://www.w3.org/Graphics/SVG/1.1/DTD/svg11.dtd\">\n",
       "<!-- Generated by graphviz version 2.50.0 (0)\n",
       " -->\n",
       "<!-- Title: Tree Pages: 1 -->\n",
       "<svg width=\"1049pt\" height=\"311pt\"\n",
       " viewBox=\"0.00 0.00 1048.50 311.00\" xmlns=\"http://www.w3.org/2000/svg\" xmlns:xlink=\"http://www.w3.org/1999/xlink\">\n",
       "<g id=\"graph0\" class=\"graph\" transform=\"scale(1 1) rotate(0) translate(4 307)\">\n",
       "<title>Tree</title>\n",
       "<polygon fill=\"white\" stroke=\"transparent\" points=\"-4,4 -4,-307 1044.5,-307 1044.5,4 -4,4\"/>\n",
       "<!-- 0 -->\n",
       "<g id=\"node1\" class=\"node\">\n",
       "<title>0</title>\n",
       "<polygon fill=\"#fdeefa\" stroke=\"black\" points=\"695,-303 424,-303 424,-250 695,-250 695,-303\"/>\n",
       "<text text-anchor=\"middle\" x=\"559.5\" y=\"-287.8\" font-family=\"Helvetica,sans-Serif\" font-size=\"14.00\">temp_max &lt;= 17.5</text>\n",
       "<text text-anchor=\"middle\" x=\"559.5\" y=\"-272.8\" font-family=\"Helvetica,sans-Serif\" font-size=\"14.00\">samples = 100.0%</text>\n",
       "<text text-anchor=\"middle\" x=\"559.5\" y=\"-257.8\" font-family=\"Helvetica,sans-Serif\" font-size=\"14.00\">value = [0.046, 0.083, 0.401, 0.017, 0.453]</text>\n",
       "</g>\n",
       "<!-- 1 -->\n",
       "<g id=\"node2\" class=\"node\">\n",
       "<title>1</title>\n",
       "<polygon fill=\"#b1f5e8\" stroke=\"black\" points=\"552,-214 289,-214 289,-161 552,-161 552,-214\"/>\n",
       "<text text-anchor=\"middle\" x=\"420.5\" y=\"-198.8\" font-family=\"Helvetica,sans-Serif\" font-size=\"14.00\">wind &lt;= 2.95</text>\n",
       "<text text-anchor=\"middle\" x=\"420.5\" y=\"-183.8\" font-family=\"Helvetica,sans-Serif\" font-size=\"14.00\">samples = 58.6%</text>\n",
       "<text text-anchor=\"middle\" x=\"420.5\" y=\"-168.8\" font-family=\"Helvetica,sans-Serif\" font-size=\"14.00\">value = [0.035, 0.09, 0.564, 0.028, 0.281]</text>\n",
       "</g>\n",
       "<!-- 0&#45;&gt;1 -->\n",
       "<g id=\"edge1\" class=\"edge\">\n",
       "<title>0&#45;&gt;1</title>\n",
       "<path fill=\"none\" stroke=\"black\" d=\"M518.55,-249.87C503.41,-240.39 486.09,-229.55 470.26,-219.64\"/>\n",
       "<polygon fill=\"black\" stroke=\"black\" points=\"471.97,-216.59 461.64,-214.25 468.26,-222.52 471.97,-216.59\"/>\n",
       "<text text-anchor=\"middle\" x=\"467.25\" y=\"-234.91\" font-family=\"Helvetica,sans-Serif\" font-size=\"14.00\">True</text>\n",
       "</g>\n",
       "<!-- 212 -->\n",
       "<g id=\"node9\" class=\"node\">\n",
       "<title>212</title>\n",
       "<polygon fill=\"#ef82d7\" stroke=\"black\" points=\"826.5,-214 570.5,-214 570.5,-161 826.5,-161 826.5,-214\"/>\n",
       "<text text-anchor=\"middle\" x=\"698.5\" y=\"-198.8\" font-family=\"Helvetica,sans-Serif\" font-size=\"14.00\">precipitation &lt;= 0.15</text>\n",
       "<text text-anchor=\"middle\" x=\"698.5\" y=\"-183.8\" font-family=\"Helvetica,sans-Serif\" font-size=\"14.00\">samples = 41.4%</text>\n",
       "<text text-anchor=\"middle\" x=\"698.5\" y=\"-168.8\" font-family=\"Helvetica,sans-Serif\" font-size=\"14.00\">value = [0.061, 0.073, 0.172, 0.0, 0.694]</text>\n",
       "</g>\n",
       "<!-- 0&#45;&gt;212 -->\n",
       "<g id=\"edge8\" class=\"edge\">\n",
       "<title>0&#45;&gt;212</title>\n",
       "<path fill=\"none\" stroke=\"black\" d=\"M600.45,-249.87C615.59,-240.39 632.91,-229.55 648.74,-219.64\"/>\n",
       "<polygon fill=\"black\" stroke=\"black\" points=\"650.74,-222.52 657.36,-214.25 647.03,-216.59 650.74,-222.52\"/>\n",
       "<text text-anchor=\"middle\" x=\"651.75\" y=\"-234.91\" font-family=\"Helvetica,sans-Serif\" font-size=\"14.00\">False</text>\n",
       "</g>\n",
       "<!-- 2 -->\n",
       "<g id=\"node3\" class=\"node\">\n",
       "<title>2</title>\n",
       "<polygon fill=\"#fffeff\" stroke=\"black\" points=\"271,-125 0,-125 0,-72 271,-72 271,-125\"/>\n",
       "<text text-anchor=\"middle\" x=\"135.5\" y=\"-109.8\" font-family=\"Helvetica,sans-Serif\" font-size=\"14.00\">temp_max &lt;= 14.15</text>\n",
       "<text text-anchor=\"middle\" x=\"135.5\" y=\"-94.8\" font-family=\"Helvetica,sans-Serif\" font-size=\"14.00\">samples = 27.0%</text>\n",
       "<text text-anchor=\"middle\" x=\"135.5\" y=\"-79.8\" font-family=\"Helvetica,sans-Serif\" font-size=\"14.00\">value = [0.063, 0.161, 0.375, 0.021, 0.379]</text>\n",
       "</g>\n",
       "<!-- 1&#45;&gt;2 -->\n",
       "<g id=\"edge2\" class=\"edge\">\n",
       "<title>1&#45;&gt;2</title>\n",
       "<path fill=\"none\" stroke=\"black\" d=\"M336.92,-160.98C302.99,-150.63 263.65,-138.62 228.79,-127.98\"/>\n",
       "<polygon fill=\"black\" stroke=\"black\" points=\"229.67,-124.59 219.08,-125.01 227.62,-131.28 229.67,-124.59\"/>\n",
       "</g>\n",
       "<!-- 145 -->\n",
       "<g id=\"node6\" class=\"node\">\n",
       "<title>145</title>\n",
       "<polygon fill=\"#79edd8\" stroke=\"black\" points=\"552,-125 289,-125 289,-72 552,-72 552,-125\"/>\n",
       "<text text-anchor=\"middle\" x=\"420.5\" y=\"-109.8\" font-family=\"Helvetica,sans-Serif\" font-size=\"14.00\">temp_min &lt;= 0.85</text>\n",
       "<text text-anchor=\"middle\" x=\"420.5\" y=\"-94.8\" font-family=\"Helvetica,sans-Serif\" font-size=\"14.00\">samples = 31.5%</text>\n",
       "<text text-anchor=\"middle\" x=\"420.5\" y=\"-79.8\" font-family=\"Helvetica,sans-Serif\" font-size=\"14.00\">value = [0.01, 0.026, 0.737, 0.035, 0.192]</text>\n",
       "</g>\n",
       "<!-- 1&#45;&gt;145 -->\n",
       "<g id=\"edge5\" class=\"edge\">\n",
       "<title>1&#45;&gt;145</title>\n",
       "<path fill=\"none\" stroke=\"black\" d=\"M420.5,-160.87C420.5,-152.89 420.5,-143.93 420.5,-135.38\"/>\n",
       "<polygon fill=\"black\" stroke=\"black\" points=\"424,-135.25 420.5,-125.25 417,-135.25 424,-135.25\"/>\n",
       "</g>\n",
       "<!-- 3 -->\n",
       "<g id=\"node4\" class=\"node\">\n",
       "<title>3</title>\n",
       "<polygon fill=\"#c0c0c0\" stroke=\"black\" points=\"126.5,-36 72.5,-36 72.5,0 126.5,0 126.5,-36\"/>\n",
       "<text text-anchor=\"middle\" x=\"99.5\" y=\"-14.3\" font-family=\"Helvetica,sans-Serif\" font-size=\"14.00\">(...)</text>\n",
       "</g>\n",
       "<!-- 2&#45;&gt;3 -->\n",
       "<g id=\"edge3\" class=\"edge\">\n",
       "<title>2&#45;&gt;3</title>\n",
       "<path fill=\"none\" stroke=\"black\" d=\"M123.71,-71.8C119.84,-63.35 115.53,-53.95 111.63,-45.45\"/>\n",
       "<polygon fill=\"black\" stroke=\"black\" points=\"114.8,-43.96 107.45,-36.33 108.43,-46.88 114.8,-43.96\"/>\n",
       "</g>\n",
       "<!-- 102 -->\n",
       "<g id=\"node5\" class=\"node\">\n",
       "<title>102</title>\n",
       "<polygon fill=\"#c0c0c0\" stroke=\"black\" points=\"198.5,-36 144.5,-36 144.5,0 198.5,0 198.5,-36\"/>\n",
       "<text text-anchor=\"middle\" x=\"171.5\" y=\"-14.3\" font-family=\"Helvetica,sans-Serif\" font-size=\"14.00\">(...)</text>\n",
       "</g>\n",
       "<!-- 2&#45;&gt;102 -->\n",
       "<g id=\"edge4\" class=\"edge\">\n",
       "<title>2&#45;&gt;102</title>\n",
       "<path fill=\"none\" stroke=\"black\" d=\"M147.29,-71.8C151.16,-63.35 155.47,-53.95 159.37,-45.45\"/>\n",
       "<polygon fill=\"black\" stroke=\"black\" points=\"162.57,-46.88 163.55,-36.33 156.2,-43.96 162.57,-46.88\"/>\n",
       "</g>\n",
       "<!-- 146 -->\n",
       "<g id=\"node7\" class=\"node\">\n",
       "<title>146</title>\n",
       "<polygon fill=\"#c0c0c0\" stroke=\"black\" points=\"411.5,-36 357.5,-36 357.5,0 411.5,0 411.5,-36\"/>\n",
       "<text text-anchor=\"middle\" x=\"384.5\" y=\"-14.3\" font-family=\"Helvetica,sans-Serif\" font-size=\"14.00\">(...)</text>\n",
       "</g>\n",
       "<!-- 145&#45;&gt;146 -->\n",
       "<g id=\"edge6\" class=\"edge\">\n",
       "<title>145&#45;&gt;146</title>\n",
       "<path fill=\"none\" stroke=\"black\" d=\"M408.71,-71.8C404.84,-63.35 400.53,-53.95 396.63,-45.45\"/>\n",
       "<polygon fill=\"black\" stroke=\"black\" points=\"399.8,-43.96 392.45,-36.33 393.43,-46.88 399.8,-43.96\"/>\n",
       "</g>\n",
       "<!-- 159 -->\n",
       "<g id=\"node8\" class=\"node\">\n",
       "<title>159</title>\n",
       "<polygon fill=\"#c0c0c0\" stroke=\"black\" points=\"483.5,-36 429.5,-36 429.5,0 483.5,0 483.5,-36\"/>\n",
       "<text text-anchor=\"middle\" x=\"456.5\" y=\"-14.3\" font-family=\"Helvetica,sans-Serif\" font-size=\"14.00\">(...)</text>\n",
       "</g>\n",
       "<!-- 145&#45;&gt;159 -->\n",
       "<g id=\"edge7\" class=\"edge\">\n",
       "<title>145&#45;&gt;159</title>\n",
       "<path fill=\"none\" stroke=\"black\" d=\"M432.29,-71.8C436.16,-63.35 440.47,-53.95 444.37,-45.45\"/>\n",
       "<polygon fill=\"black\" stroke=\"black\" points=\"447.57,-46.88 448.55,-36.33 441.2,-43.96 447.57,-46.88\"/>\n",
       "</g>\n",
       "<!-- 213 -->\n",
       "<g id=\"node10\" class=\"node\">\n",
       "<title>213</title>\n",
       "<polygon fill=\"#ea60cc\" stroke=\"black\" points=\"826.5,-125 570.5,-125 570.5,-72 826.5,-72 826.5,-125\"/>\n",
       "<text text-anchor=\"middle\" x=\"698.5\" y=\"-109.8\" font-family=\"Helvetica,sans-Serif\" font-size=\"14.00\">temp_max &lt;= 19.15</text>\n",
       "<text text-anchor=\"middle\" x=\"698.5\" y=\"-94.8\" font-family=\"Helvetica,sans-Serif\" font-size=\"14.00\">samples = 34.8%</text>\n",
       "<text text-anchor=\"middle\" x=\"698.5\" y=\"-79.8\" font-family=\"Helvetica,sans-Serif\" font-size=\"14.00\">value = [0.072, 0.086, 0.022, 0.0, 0.819]</text>\n",
       "</g>\n",
       "<!-- 212&#45;&gt;213 -->\n",
       "<g id=\"edge9\" class=\"edge\">\n",
       "<title>212&#45;&gt;213</title>\n",
       "<path fill=\"none\" stroke=\"black\" d=\"M698.5,-160.87C698.5,-152.89 698.5,-143.93 698.5,-135.38\"/>\n",
       "<polygon fill=\"black\" stroke=\"black\" points=\"702,-135.25 698.5,-125.25 695,-135.25 702,-135.25\"/>\n",
       "</g>\n",
       "<!-- 382 -->\n",
       "<g id=\"node13\" class=\"node\">\n",
       "<title>382</title>\n",
       "<polygon fill=\"#39e5c5\" stroke=\"black\" points=\"1040.5,-117.5 844.5,-117.5 844.5,-79.5 1040.5,-79.5 1040.5,-117.5\"/>\n",
       "<text text-anchor=\"middle\" x=\"942.5\" y=\"-102.3\" font-family=\"Helvetica,sans-Serif\" font-size=\"14.00\">samples = 6.6%</text>\n",
       "<text text-anchor=\"middle\" x=\"942.5\" y=\"-87.3\" font-family=\"Helvetica,sans-Serif\" font-size=\"14.00\">value = [0.0, 0.0, 1.0, 0.0, 0.0]</text>\n",
       "</g>\n",
       "<!-- 212&#45;&gt;382 -->\n",
       "<g id=\"edge12\" class=\"edge\">\n",
       "<title>212&#45;&gt;382</title>\n",
       "<path fill=\"none\" stroke=\"black\" d=\"M770.06,-160.98C805.64,-148.3 848.17,-133.14 882.09,-121.04\"/>\n",
       "<polygon fill=\"black\" stroke=\"black\" points=\"883.62,-124.21 891.86,-117.55 881.27,-117.62 883.62,-124.21\"/>\n",
       "</g>\n",
       "<!-- 214 -->\n",
       "<g id=\"node11\" class=\"node\">\n",
       "<title>214</title>\n",
       "<polygon fill=\"#c0c0c0\" stroke=\"black\" points=\"689.5,-36 635.5,-36 635.5,0 689.5,0 689.5,-36\"/>\n",
       "<text text-anchor=\"middle\" x=\"662.5\" y=\"-14.3\" font-family=\"Helvetica,sans-Serif\" font-size=\"14.00\">(...)</text>\n",
       "</g>\n",
       "<!-- 213&#45;&gt;214 -->\n",
       "<g id=\"edge10\" class=\"edge\">\n",
       "<title>213&#45;&gt;214</title>\n",
       "<path fill=\"none\" stroke=\"black\" d=\"M686.71,-71.8C682.84,-63.35 678.53,-53.95 674.63,-45.45\"/>\n",
       "<polygon fill=\"black\" stroke=\"black\" points=\"677.8,-43.96 670.45,-36.33 671.43,-46.88 677.8,-43.96\"/>\n",
       "</g>\n",
       "<!-- 239 -->\n",
       "<g id=\"node12\" class=\"node\">\n",
       "<title>239</title>\n",
       "<polygon fill=\"#c0c0c0\" stroke=\"black\" points=\"761.5,-36 707.5,-36 707.5,0 761.5,0 761.5,-36\"/>\n",
       "<text text-anchor=\"middle\" x=\"734.5\" y=\"-14.3\" font-family=\"Helvetica,sans-Serif\" font-size=\"14.00\">(...)</text>\n",
       "</g>\n",
       "<!-- 213&#45;&gt;239 -->\n",
       "<g id=\"edge11\" class=\"edge\">\n",
       "<title>213&#45;&gt;239</title>\n",
       "<path fill=\"none\" stroke=\"black\" d=\"M710.29,-71.8C714.16,-63.35 718.47,-53.95 722.37,-45.45\"/>\n",
       "<polygon fill=\"black\" stroke=\"black\" points=\"725.57,-46.88 726.55,-36.33 719.2,-43.96 725.57,-46.88\"/>\n",
       "</g>\n",
       "</g>\n",
       "</svg>\n"
      ],
      "text/plain": [
       "<graphviz.sources.Source at 0x7fe478107e80>"
      ]
     },
     "metadata": {},
     "output_type": "display_data"
    },
    {
     "data": {
      "image/svg+xml": [
       "<?xml version=\"1.0\" encoding=\"UTF-8\" standalone=\"no\"?>\n",
       "<!DOCTYPE svg PUBLIC \"-//W3C//DTD SVG 1.1//EN\"\n",
       " \"http://www.w3.org/Graphics/SVG/1.1/DTD/svg11.dtd\">\n",
       "<!-- Generated by graphviz version 2.50.0 (0)\n",
       " -->\n",
       "<!-- Title: Tree Pages: 1 -->\n",
       "<svg width=\"1026pt\" height=\"311pt\"\n",
       " viewBox=\"0.00 0.00 1026.00 311.00\" xmlns=\"http://www.w3.org/2000/svg\" xmlns:xlink=\"http://www.w3.org/1999/xlink\">\n",
       "<g id=\"graph0\" class=\"graph\" transform=\"scale(1 1) rotate(0) translate(4 307)\">\n",
       "<title>Tree</title>\n",
       "<polygon fill=\"white\" stroke=\"transparent\" points=\"-4,4 -4,-307 1022,-307 1022,4 -4,4\"/>\n",
       "<!-- 0 -->\n",
       "<g id=\"node1\" class=\"node\">\n",
       "<title>0</title>\n",
       "<polygon fill=\"#eafcf9\" stroke=\"black\" points=\"666.5,-303 395.5,-303 395.5,-250 666.5,-250 666.5,-303\"/>\n",
       "<text text-anchor=\"middle\" x=\"531\" y=\"-287.8\" font-family=\"Helvetica,sans-Serif\" font-size=\"14.00\">precipitation &lt;= 0.15</text>\n",
       "<text text-anchor=\"middle\" x=\"531\" y=\"-272.8\" font-family=\"Helvetica,sans-Serif\" font-size=\"14.00\">samples = 100.0%</text>\n",
       "<text text-anchor=\"middle\" x=\"531\" y=\"-257.8\" font-family=\"Helvetica,sans-Serif\" font-size=\"14.00\">value = [0.039, 0.071, 0.469, 0.016, 0.405]</text>\n",
       "</g>\n",
       "<!-- 1 -->\n",
       "<g id=\"node2\" class=\"node\">\n",
       "<title>1</title>\n",
       "<polygon fill=\"#ed75d3\" stroke=\"black\" points=\"526,-214 278,-214 278,-161 526,-161 526,-214\"/>\n",
       "<text text-anchor=\"middle\" x=\"402\" y=\"-198.8\" font-family=\"Helvetica,sans-Serif\" font-size=\"14.00\">wind &lt;= 1.95</text>\n",
       "<text text-anchor=\"middle\" x=\"402\" y=\"-183.8\" font-family=\"Helvetica,sans-Serif\" font-size=\"14.00\">samples = 56.4%</text>\n",
       "<text text-anchor=\"middle\" x=\"402\" y=\"-168.8\" font-family=\"Helvetica,sans-Serif\" font-size=\"14.00\">value = [0.071, 0.13, 0.062, 0.0, 0.737]</text>\n",
       "</g>\n",
       "<!-- 0&#45;&gt;1 -->\n",
       "<g id=\"edge1\" class=\"edge\">\n",
       "<title>0&#45;&gt;1</title>\n",
       "<path fill=\"none\" stroke=\"black\" d=\"M492.99,-249.87C479.08,-240.48 463.17,-229.75 448.59,-219.92\"/>\n",
       "<polygon fill=\"black\" stroke=\"black\" points=\"450.43,-216.94 440.18,-214.25 446.51,-222.74 450.43,-216.94\"/>\n",
       "<text text-anchor=\"middle\" x=\"444.95\" y=\"-235.09\" font-family=\"Helvetica,sans-Serif\" font-size=\"14.00\">True</text>\n",
       "</g>\n",
       "<!-- 298 -->\n",
       "<g id=\"node9\" class=\"node\">\n",
       "<title>298</title>\n",
       "<polygon fill=\"#40e6c7\" stroke=\"black\" points=\"774,-214 548,-214 548,-161 774,-161 774,-214\"/>\n",
       "<text text-anchor=\"middle\" x=\"661\" y=\"-198.8\" font-family=\"Helvetica,sans-Serif\" font-size=\"14.00\">temp_min &lt;= 0.85</text>\n",
       "<text text-anchor=\"middle\" x=\"661\" y=\"-183.8\" font-family=\"Helvetica,sans-Serif\" font-size=\"14.00\">samples = 43.6%</text>\n",
       "<text text-anchor=\"middle\" x=\"661\" y=\"-168.8\" font-family=\"Helvetica,sans-Serif\" font-size=\"14.00\">value = [0.0, 0.0, 0.965, 0.035, 0.0]</text>\n",
       "</g>\n",
       "<!-- 0&#45;&gt;298 -->\n",
       "<g id=\"edge8\" class=\"edge\">\n",
       "<title>0&#45;&gt;298</title>\n",
       "<path fill=\"none\" stroke=\"black\" d=\"M569.3,-249.87C583.33,-240.48 599.36,-229.75 614.05,-219.92\"/>\n",
       "<polygon fill=\"black\" stroke=\"black\" points=\"616.16,-222.72 622.52,-214.25 612.27,-216.9 616.16,-222.72\"/>\n",
       "<text text-anchor=\"middle\" x=\"617.66\" y=\"-235.07\" font-family=\"Helvetica,sans-Serif\" font-size=\"14.00\">False</text>\n",
       "</g>\n",
       "<!-- 2 -->\n",
       "<g id=\"node3\" class=\"node\">\n",
       "<title>2</title>\n",
       "<polygon fill=\"#fbe0f5\" stroke=\"black\" points=\"256,-125 0,-125 0,-72 256,-72 256,-125\"/>\n",
       "<text text-anchor=\"middle\" x=\"128\" y=\"-109.8\" font-family=\"Helvetica,sans-Serif\" font-size=\"14.00\">temp_max &lt;= 4.45</text>\n",
       "<text text-anchor=\"middle\" x=\"128\" y=\"-94.8\" font-family=\"Helvetica,sans-Serif\" font-size=\"14.00\">samples = 11.4%</text>\n",
       "<text text-anchor=\"middle\" x=\"128\" y=\"-79.8\" font-family=\"Helvetica,sans-Serif\" font-size=\"14.00\">value = [0.211, 0.333, 0.018, 0.0, 0.439]</text>\n",
       "</g>\n",
       "<!-- 1&#45;&gt;2 -->\n",
       "<g id=\"edge2\" class=\"edge\">\n",
       "<title>1&#45;&gt;2</title>\n",
       "<path fill=\"none\" stroke=\"black\" d=\"M321.64,-160.98C289.16,-150.67 251.52,-138.72 218.12,-128.11\"/>\n",
       "<polygon fill=\"black\" stroke=\"black\" points=\"218.95,-124.71 208.36,-125.01 216.83,-131.38 218.95,-124.71\"/>\n",
       "</g>\n",
       "<!-- 93 -->\n",
       "<g id=\"node6\" class=\"node\">\n",
       "<title>93</title>\n",
       "<polygon fill=\"#ea61cd\" stroke=\"black\" points=\"530,-125 274,-125 274,-72 530,-72 530,-125\"/>\n",
       "<text text-anchor=\"middle\" x=\"402\" y=\"-109.8\" font-family=\"Helvetica,sans-Serif\" font-size=\"14.00\">temp_max &lt;= 16.95</text>\n",
       "<text text-anchor=\"middle\" x=\"402\" y=\"-94.8\" font-family=\"Helvetica,sans-Serif\" font-size=\"14.00\">samples = 45.0%</text>\n",
       "<text text-anchor=\"middle\" x=\"402\" y=\"-79.8\" font-family=\"Helvetica,sans-Serif\" font-size=\"14.00\">value = [0.036, 0.078, 0.074, 0.0, 0.812]</text>\n",
       "</g>\n",
       "<!-- 1&#45;&gt;93 -->\n",
       "<g id=\"edge5\" class=\"edge\">\n",
       "<title>1&#45;&gt;93</title>\n",
       "<path fill=\"none\" stroke=\"black\" d=\"M402,-160.87C402,-152.89 402,-143.93 402,-135.38\"/>\n",
       "<polygon fill=\"black\" stroke=\"black\" points=\"405.5,-135.25 402,-125.25 398.5,-135.25 405.5,-135.25\"/>\n",
       "</g>\n",
       "<!-- 3 -->\n",
       "<g id=\"node4\" class=\"node\">\n",
       "<title>3</title>\n",
       "<polygon fill=\"#c0c0c0\" stroke=\"black\" points=\"119,-36 65,-36 65,0 119,0 119,-36\"/>\n",
       "<text text-anchor=\"middle\" x=\"92\" y=\"-14.3\" font-family=\"Helvetica,sans-Serif\" font-size=\"14.00\">(...)</text>\n",
       "</g>\n",
       "<!-- 2&#45;&gt;3 -->\n",
       "<g id=\"edge3\" class=\"edge\">\n",
       "<title>2&#45;&gt;3</title>\n",
       "<path fill=\"none\" stroke=\"black\" d=\"M116.21,-71.8C112.34,-63.35 108.03,-53.95 104.13,-45.45\"/>\n",
       "<polygon fill=\"black\" stroke=\"black\" points=\"107.3,-43.96 99.95,-36.33 100.93,-46.88 107.3,-43.96\"/>\n",
       "</g>\n",
       "<!-- 10 -->\n",
       "<g id=\"node5\" class=\"node\">\n",
       "<title>10</title>\n",
       "<polygon fill=\"#c0c0c0\" stroke=\"black\" points=\"191,-36 137,-36 137,0 191,0 191,-36\"/>\n",
       "<text text-anchor=\"middle\" x=\"164\" y=\"-14.3\" font-family=\"Helvetica,sans-Serif\" font-size=\"14.00\">(...)</text>\n",
       "</g>\n",
       "<!-- 2&#45;&gt;10 -->\n",
       "<g id=\"edge4\" class=\"edge\">\n",
       "<title>2&#45;&gt;10</title>\n",
       "<path fill=\"none\" stroke=\"black\" d=\"M139.79,-71.8C143.66,-63.35 147.97,-53.95 151.87,-45.45\"/>\n",
       "<polygon fill=\"black\" stroke=\"black\" points=\"155.07,-46.88 156.05,-36.33 148.7,-43.96 155.07,-46.88\"/>\n",
       "</g>\n",
       "<!-- 94 -->\n",
       "<g id=\"node7\" class=\"node\">\n",
       "<title>94</title>\n",
       "<polygon fill=\"#c0c0c0\" stroke=\"black\" points=\"393,-36 339,-36 339,0 393,0 393,-36\"/>\n",
       "<text text-anchor=\"middle\" x=\"366\" y=\"-14.3\" font-family=\"Helvetica,sans-Serif\" font-size=\"14.00\">(...)</text>\n",
       "</g>\n",
       "<!-- 93&#45;&gt;94 -->\n",
       "<g id=\"edge6\" class=\"edge\">\n",
       "<title>93&#45;&gt;94</title>\n",
       "<path fill=\"none\" stroke=\"black\" d=\"M390.21,-71.8C386.34,-63.35 382.03,-53.95 378.13,-45.45\"/>\n",
       "<polygon fill=\"black\" stroke=\"black\" points=\"381.3,-43.96 373.95,-36.33 374.93,-46.88 381.3,-43.96\"/>\n",
       "</g>\n",
       "<!-- 183 -->\n",
       "<g id=\"node8\" class=\"node\">\n",
       "<title>183</title>\n",
       "<polygon fill=\"#c0c0c0\" stroke=\"black\" points=\"465,-36 411,-36 411,0 465,0 465,-36\"/>\n",
       "<text text-anchor=\"middle\" x=\"438\" y=\"-14.3\" font-family=\"Helvetica,sans-Serif\" font-size=\"14.00\">(...)</text>\n",
       "</g>\n",
       "<!-- 93&#45;&gt;183 -->\n",
       "<g id=\"edge7\" class=\"edge\">\n",
       "<title>93&#45;&gt;183</title>\n",
       "<path fill=\"none\" stroke=\"black\" d=\"M413.79,-71.8C417.66,-63.35 421.97,-53.95 425.87,-45.45\"/>\n",
       "<polygon fill=\"black\" stroke=\"black\" points=\"429.07,-46.88 430.05,-36.33 422.7,-43.96 429.07,-46.88\"/>\n",
       "</g>\n",
       "<!-- 299 -->\n",
       "<g id=\"node10\" class=\"node\">\n",
       "<title>299</title>\n",
       "<polygon fill=\"#c3c2f7\" stroke=\"black\" points=\"774,-125 548,-125 548,-72 774,-72 774,-125\"/>\n",
       "<text text-anchor=\"middle\" x=\"661\" y=\"-109.8\" font-family=\"Helvetica,sans-Serif\" font-size=\"14.00\">precipitation &lt;= 2.4</text>\n",
       "<text text-anchor=\"middle\" x=\"661\" y=\"-94.8\" font-family=\"Helvetica,sans-Serif\" font-size=\"14.00\">samples = 2.6%</text>\n",
       "<text text-anchor=\"middle\" x=\"661\" y=\"-79.8\" font-family=\"Helvetica,sans-Serif\" font-size=\"14.00\">value = [0.0, 0.0, 0.409, 0.591, 0.0]</text>\n",
       "</g>\n",
       "<!-- 298&#45;&gt;299 -->\n",
       "<g id=\"edge9\" class=\"edge\">\n",
       "<title>298&#45;&gt;299</title>\n",
       "<path fill=\"none\" stroke=\"black\" d=\"M661,-160.87C661,-152.89 661,-143.93 661,-135.38\"/>\n",
       "<polygon fill=\"black\" stroke=\"black\" points=\"664.5,-135.25 661,-125.25 657.5,-135.25 664.5,-135.25\"/>\n",
       "</g>\n",
       "<!-- 306 -->\n",
       "<g id=\"node13\" class=\"node\">\n",
       "<title>306</title>\n",
       "<polygon fill=\"#3ae5c5\" stroke=\"black\" points=\"1018,-125 792,-125 792,-72 1018,-72 1018,-125\"/>\n",
       "<text text-anchor=\"middle\" x=\"905\" y=\"-109.8\" font-family=\"Helvetica,sans-Serif\" font-size=\"14.00\">temp_min &lt;= 1.95</text>\n",
       "<text text-anchor=\"middle\" x=\"905\" y=\"-94.8\" font-family=\"Helvetica,sans-Serif\" font-size=\"14.00\">samples = 41.0%</text>\n",
       "<text text-anchor=\"middle\" x=\"905\" y=\"-79.8\" font-family=\"Helvetica,sans-Serif\" font-size=\"14.00\">value = [0.0, 0.0, 0.993, 0.007, 0.0]</text>\n",
       "</g>\n",
       "<!-- 298&#45;&gt;306 -->\n",
       "<g id=\"edge12\" class=\"edge\">\n",
       "<title>298&#45;&gt;306</title>\n",
       "<path fill=\"none\" stroke=\"black\" d=\"M732.56,-160.98C761.24,-150.76 794.43,-138.93 823.98,-128.39\"/>\n",
       "<polygon fill=\"black\" stroke=\"black\" points=\"825.2,-131.67 833.44,-125.01 822.85,-125.08 825.2,-131.67\"/>\n",
       "</g>\n",
       "<!-- 300 -->\n",
       "<g id=\"node11\" class=\"node\">\n",
       "<title>300</title>\n",
       "<polygon fill=\"#c0c0c0\" stroke=\"black\" points=\"652,-36 598,-36 598,0 652,0 652,-36\"/>\n",
       "<text text-anchor=\"middle\" x=\"625\" y=\"-14.3\" font-family=\"Helvetica,sans-Serif\" font-size=\"14.00\">(...)</text>\n",
       "</g>\n",
       "<!-- 299&#45;&gt;300 -->\n",
       "<g id=\"edge10\" class=\"edge\">\n",
       "<title>299&#45;&gt;300</title>\n",
       "<path fill=\"none\" stroke=\"black\" d=\"M649.21,-71.8C645.34,-63.35 641.03,-53.95 637.13,-45.45\"/>\n",
       "<polygon fill=\"black\" stroke=\"black\" points=\"640.3,-43.96 632.95,-36.33 633.93,-46.88 640.3,-43.96\"/>\n",
       "</g>\n",
       "<!-- 301 -->\n",
       "<g id=\"node12\" class=\"node\">\n",
       "<title>301</title>\n",
       "<polygon fill=\"#c0c0c0\" stroke=\"black\" points=\"724,-36 670,-36 670,0 724,0 724,-36\"/>\n",
       "<text text-anchor=\"middle\" x=\"697\" y=\"-14.3\" font-family=\"Helvetica,sans-Serif\" font-size=\"14.00\">(...)</text>\n",
       "</g>\n",
       "<!-- 299&#45;&gt;301 -->\n",
       "<g id=\"edge11\" class=\"edge\">\n",
       "<title>299&#45;&gt;301</title>\n",
       "<path fill=\"none\" stroke=\"black\" d=\"M672.79,-71.8C676.66,-63.35 680.97,-53.95 684.87,-45.45\"/>\n",
       "<polygon fill=\"black\" stroke=\"black\" points=\"688.07,-46.88 689.05,-36.33 681.7,-43.96 688.07,-46.88\"/>\n",
       "</g>\n",
       "<!-- 307 -->\n",
       "<g id=\"node14\" class=\"node\">\n",
       "<title>307</title>\n",
       "<polygon fill=\"#c0c0c0\" stroke=\"black\" points=\"896,-36 842,-36 842,0 896,0 896,-36\"/>\n",
       "<text text-anchor=\"middle\" x=\"869\" y=\"-14.3\" font-family=\"Helvetica,sans-Serif\" font-size=\"14.00\">(...)</text>\n",
       "</g>\n",
       "<!-- 306&#45;&gt;307 -->\n",
       "<g id=\"edge13\" class=\"edge\">\n",
       "<title>306&#45;&gt;307</title>\n",
       "<path fill=\"none\" stroke=\"black\" d=\"M893.21,-71.8C889.34,-63.35 885.03,-53.95 881.13,-45.45\"/>\n",
       "<polygon fill=\"black\" stroke=\"black\" points=\"884.3,-43.96 876.95,-36.33 877.93,-46.88 884.3,-43.96\"/>\n",
       "</g>\n",
       "<!-- 312 -->\n",
       "<g id=\"node15\" class=\"node\">\n",
       "<title>312</title>\n",
       "<polygon fill=\"#c0c0c0\" stroke=\"black\" points=\"968,-36 914,-36 914,0 968,0 968,-36\"/>\n",
       "<text text-anchor=\"middle\" x=\"941\" y=\"-14.3\" font-family=\"Helvetica,sans-Serif\" font-size=\"14.00\">(...)</text>\n",
       "</g>\n",
       "<!-- 306&#45;&gt;312 -->\n",
       "<g id=\"edge14\" class=\"edge\">\n",
       "<title>306&#45;&gt;312</title>\n",
       "<path fill=\"none\" stroke=\"black\" d=\"M916.79,-71.8C920.66,-63.35 924.97,-53.95 928.87,-45.45\"/>\n",
       "<polygon fill=\"black\" stroke=\"black\" points=\"932.07,-46.88 933.05,-36.33 925.7,-43.96 932.07,-46.88\"/>\n",
       "</g>\n",
       "</g>\n",
       "</svg>\n"
      ],
      "text/plain": [
       "<graphviz.sources.Source at 0x7fe47792fe20>"
      ]
     },
     "metadata": {},
     "output_type": "display_data"
    },
    {
     "data": {
      "image/svg+xml": [
       "<?xml version=\"1.0\" encoding=\"UTF-8\" standalone=\"no\"?>\n",
       "<!DOCTYPE svg PUBLIC \"-//W3C//DTD SVG 1.1//EN\"\n",
       " \"http://www.w3.org/Graphics/SVG/1.1/DTD/svg11.dtd\">\n",
       "<!-- Generated by graphviz version 2.50.0 (0)\n",
       " -->\n",
       "<!-- Title: Tree Pages: 1 -->\n",
       "<svg width=\"1013pt\" height=\"311pt\"\n",
       " viewBox=\"0.00 0.00 1013.00 311.00\" xmlns=\"http://www.w3.org/2000/svg\" xmlns:xlink=\"http://www.w3.org/1999/xlink\">\n",
       "<g id=\"graph0\" class=\"graph\" transform=\"scale(1 1) rotate(0) translate(4 307)\">\n",
       "<title>Tree</title>\n",
       "<polygon fill=\"white\" stroke=\"transparent\" points=\"-4,4 -4,-307 1009,-307 1009,4 -4,4\"/>\n",
       "<!-- 0 -->\n",
       "<g id=\"node1\" class=\"node\">\n",
       "<title>0</title>\n",
       "<polygon fill=\"#f0fdfb\" stroke=\"black\" points=\"663.5,-303 392.5,-303 392.5,-250 663.5,-250 663.5,-303\"/>\n",
       "<text text-anchor=\"middle\" x=\"528\" y=\"-287.8\" font-family=\"Helvetica,sans-Serif\" font-size=\"14.00\">precipitation &lt;= 0.15</text>\n",
       "<text text-anchor=\"middle\" x=\"528\" y=\"-272.8\" font-family=\"Helvetica,sans-Serif\" font-size=\"14.00\">samples = 100.0%</text>\n",
       "<text text-anchor=\"middle\" x=\"528\" y=\"-257.8\" font-family=\"Helvetica,sans-Serif\" font-size=\"14.00\">value = [0.034, 0.066, 0.461, 0.023, 0.416]</text>\n",
       "</g>\n",
       "<!-- 1 -->\n",
       "<g id=\"node2\" class=\"node\">\n",
       "<title>1</title>\n",
       "<polygon fill=\"#ec6fd1\" stroke=\"black\" points=\"525,-214 277,-214 277,-161 525,-161 525,-214\"/>\n",
       "<text text-anchor=\"middle\" x=\"401\" y=\"-198.8\" font-family=\"Helvetica,sans-Serif\" font-size=\"14.00\">wind &lt;= 1.95</text>\n",
       "<text text-anchor=\"middle\" x=\"401\" y=\"-183.8\" font-family=\"Helvetica,sans-Serif\" font-size=\"14.00\">samples = 55.1%</text>\n",
       "<text text-anchor=\"middle\" x=\"401\" y=\"-168.8\" font-family=\"Helvetica,sans-Serif\" font-size=\"14.00\">value = [0.063, 0.12, 0.056, 0.0, 0.762]</text>\n",
       "</g>\n",
       "<!-- 0&#45;&gt;1 -->\n",
       "<g id=\"edge1\" class=\"edge\">\n",
       "<title>0&#45;&gt;1</title>\n",
       "<path fill=\"none\" stroke=\"black\" d=\"M490.58,-249.87C476.88,-240.48 461.22,-229.75 446.87,-219.92\"/>\n",
       "<polygon fill=\"black\" stroke=\"black\" points=\"448.82,-217.01 438.59,-214.25 444.86,-222.79 448.82,-217.01\"/>\n",
       "<text text-anchor=\"middle\" x=\"443.18\" y=\"-235.12\" font-family=\"Helvetica,sans-Serif\" font-size=\"14.00\">True</text>\n",
       "</g>\n",
       "<!-- 266 -->\n",
       "<g id=\"node9\" class=\"node\">\n",
       "<title>266</title>\n",
       "<polygon fill=\"#44e6c8\" stroke=\"black\" points=\"769,-214 543,-214 543,-161 769,-161 769,-214\"/>\n",
       "<text text-anchor=\"middle\" x=\"656\" y=\"-198.8\" font-family=\"Helvetica,sans-Serif\" font-size=\"14.00\">temp_max &lt;= 4.7</text>\n",
       "<text text-anchor=\"middle\" x=\"656\" y=\"-183.8\" font-family=\"Helvetica,sans-Serif\" font-size=\"14.00\">samples = 44.9%</text>\n",
       "<text text-anchor=\"middle\" x=\"656\" y=\"-168.8\" font-family=\"Helvetica,sans-Serif\" font-size=\"14.00\">value = [0.0, 0.0, 0.948, 0.052, 0.0]</text>\n",
       "</g>\n",
       "<!-- 0&#45;&gt;266 -->\n",
       "<g id=\"edge8\" class=\"edge\">\n",
       "<title>0&#45;&gt;266</title>\n",
       "<path fill=\"none\" stroke=\"black\" d=\"M565.71,-249.87C579.52,-240.48 595.31,-229.75 609.77,-219.92\"/>\n",
       "<polygon fill=\"black\" stroke=\"black\" points=\"611.81,-222.77 618.12,-214.25 607.88,-216.98 611.81,-222.77\"/>\n",
       "<text text-anchor=\"middle\" x=\"613.43\" y=\"-235.11\" font-family=\"Helvetica,sans-Serif\" font-size=\"14.00\">False</text>\n",
       "</g>\n",
       "<!-- 2 -->\n",
       "<g id=\"node3\" class=\"node\">\n",
       "<title>2</title>\n",
       "<polygon fill=\"#f5afe6\" stroke=\"black\" points=\"256,-125 0,-125 0,-72 256,-72 256,-125\"/>\n",
       "<text text-anchor=\"middle\" x=\"128\" y=\"-109.8\" font-family=\"Helvetica,sans-Serif\" font-size=\"14.00\">temp_min &lt;= &#45;1.05</text>\n",
       "<text text-anchor=\"middle\" x=\"128\" y=\"-94.8\" font-family=\"Helvetica,sans-Serif\" font-size=\"14.00\">samples = 10.7%</text>\n",
       "<text text-anchor=\"middle\" x=\"128\" y=\"-79.8\" font-family=\"Helvetica,sans-Serif\" font-size=\"14.00\">value = [0.152, 0.267, 0.019, 0.0, 0.562]</text>\n",
       "</g>\n",
       "<!-- 1&#45;&gt;2 -->\n",
       "<g id=\"edge2\" class=\"edge\">\n",
       "<title>1&#45;&gt;2</title>\n",
       "<path fill=\"none\" stroke=\"black\" d=\"M320.94,-160.98C288.57,-150.67 251.07,-138.72 217.79,-128.11\"/>\n",
       "<polygon fill=\"black\" stroke=\"black\" points=\"218.65,-124.72 208.06,-125.01 216.53,-131.39 218.65,-124.72\"/>\n",
       "</g>\n",
       "<!-- 83 -->\n",
       "<g id=\"node6\" class=\"node\">\n",
       "<title>83</title>\n",
       "<polygon fill=\"#ea63cd\" stroke=\"black\" points=\"530,-125 274,-125 274,-72 530,-72 530,-125\"/>\n",
       "<text text-anchor=\"middle\" x=\"402\" y=\"-109.8\" font-family=\"Helvetica,sans-Serif\" font-size=\"14.00\">temp_min &lt;= 5.3</text>\n",
       "<text text-anchor=\"middle\" x=\"402\" y=\"-94.8\" font-family=\"Helvetica,sans-Serif\" font-size=\"14.00\">samples = 44.4%</text>\n",
       "<text text-anchor=\"middle\" x=\"402\" y=\"-79.8\" font-family=\"Helvetica,sans-Serif\" font-size=\"14.00\">value = [0.042, 0.086, 0.064, 0.0, 0.808]</text>\n",
       "</g>\n",
       "<!-- 1&#45;&gt;83 -->\n",
       "<g id=\"edge5\" class=\"edge\">\n",
       "<title>1&#45;&gt;83</title>\n",
       "<path fill=\"none\" stroke=\"black\" d=\"M401.29,-160.87C401.39,-152.89 401.49,-143.93 401.59,-135.38\"/>\n",
       "<polygon fill=\"black\" stroke=\"black\" points=\"405.09,-135.29 401.7,-125.25 398.09,-135.21 405.09,-135.29\"/>\n",
       "</g>\n",
       "<!-- 3 -->\n",
       "<g id=\"node4\" class=\"node\">\n",
       "<title>3</title>\n",
       "<polygon fill=\"#c0c0c0\" stroke=\"black\" points=\"119,-36 65,-36 65,0 119,0 119,-36\"/>\n",
       "<text text-anchor=\"middle\" x=\"92\" y=\"-14.3\" font-family=\"Helvetica,sans-Serif\" font-size=\"14.00\">(...)</text>\n",
       "</g>\n",
       "<!-- 2&#45;&gt;3 -->\n",
       "<g id=\"edge3\" class=\"edge\">\n",
       "<title>2&#45;&gt;3</title>\n",
       "<path fill=\"none\" stroke=\"black\" d=\"M116.21,-71.8C112.34,-63.35 108.03,-53.95 104.13,-45.45\"/>\n",
       "<polygon fill=\"black\" stroke=\"black\" points=\"107.3,-43.96 99.95,-36.33 100.93,-46.88 107.3,-43.96\"/>\n",
       "</g>\n",
       "<!-- 10 -->\n",
       "<g id=\"node5\" class=\"node\">\n",
       "<title>10</title>\n",
       "<polygon fill=\"#c0c0c0\" stroke=\"black\" points=\"191,-36 137,-36 137,0 191,0 191,-36\"/>\n",
       "<text text-anchor=\"middle\" x=\"164\" y=\"-14.3\" font-family=\"Helvetica,sans-Serif\" font-size=\"14.00\">(...)</text>\n",
       "</g>\n",
       "<!-- 2&#45;&gt;10 -->\n",
       "<g id=\"edge4\" class=\"edge\">\n",
       "<title>2&#45;&gt;10</title>\n",
       "<path fill=\"none\" stroke=\"black\" d=\"M139.79,-71.8C143.66,-63.35 147.97,-53.95 151.87,-45.45\"/>\n",
       "<polygon fill=\"black\" stroke=\"black\" points=\"155.07,-46.88 156.05,-36.33 148.7,-43.96 155.07,-46.88\"/>\n",
       "</g>\n",
       "<!-- 84 -->\n",
       "<g id=\"node7\" class=\"node\">\n",
       "<title>84</title>\n",
       "<polygon fill=\"#c0c0c0\" stroke=\"black\" points=\"393,-36 339,-36 339,0 393,0 393,-36\"/>\n",
       "<text text-anchor=\"middle\" x=\"366\" y=\"-14.3\" font-family=\"Helvetica,sans-Serif\" font-size=\"14.00\">(...)</text>\n",
       "</g>\n",
       "<!-- 83&#45;&gt;84 -->\n",
       "<g id=\"edge6\" class=\"edge\">\n",
       "<title>83&#45;&gt;84</title>\n",
       "<path fill=\"none\" stroke=\"black\" d=\"M390.21,-71.8C386.34,-63.35 382.03,-53.95 378.13,-45.45\"/>\n",
       "<polygon fill=\"black\" stroke=\"black\" points=\"381.3,-43.96 373.95,-36.33 374.93,-46.88 381.3,-43.96\"/>\n",
       "</g>\n",
       "<!-- 139 -->\n",
       "<g id=\"node8\" class=\"node\">\n",
       "<title>139</title>\n",
       "<polygon fill=\"#c0c0c0\" stroke=\"black\" points=\"465,-36 411,-36 411,0 465,0 465,-36\"/>\n",
       "<text text-anchor=\"middle\" x=\"438\" y=\"-14.3\" font-family=\"Helvetica,sans-Serif\" font-size=\"14.00\">(...)</text>\n",
       "</g>\n",
       "<!-- 83&#45;&gt;139 -->\n",
       "<g id=\"edge7\" class=\"edge\">\n",
       "<title>83&#45;&gt;139</title>\n",
       "<path fill=\"none\" stroke=\"black\" d=\"M413.79,-71.8C417.66,-63.35 421.97,-53.95 425.87,-45.45\"/>\n",
       "<polygon fill=\"black\" stroke=\"black\" points=\"429.07,-46.88 430.05,-36.33 422.7,-43.96 429.07,-46.88\"/>\n",
       "</g>\n",
       "<!-- 267 -->\n",
       "<g id=\"node10\" class=\"node\">\n",
       "<title>267</title>\n",
       "<polygon fill=\"#7d7bee\" stroke=\"black\" points=\"760.5,-125 549.5,-125 549.5,-72 760.5,-72 760.5,-125\"/>\n",
       "<text text-anchor=\"middle\" x=\"655\" y=\"-109.8\" font-family=\"Helvetica,sans-Serif\" font-size=\"14.00\">wind &lt;= 3.05</text>\n",
       "<text text-anchor=\"middle\" x=\"655\" y=\"-94.8\" font-family=\"Helvetica,sans-Serif\" font-size=\"14.00\">samples = 1.4%</text>\n",
       "<text text-anchor=\"middle\" x=\"655\" y=\"-79.8\" font-family=\"Helvetica,sans-Serif\" font-size=\"14.00\">value = [0.0, 0.0, 0.25, 0.75, 0.0]</text>\n",
       "</g>\n",
       "<!-- 266&#45;&gt;267 -->\n",
       "<g id=\"edge9\" class=\"edge\">\n",
       "<title>266&#45;&gt;267</title>\n",
       "<path fill=\"none\" stroke=\"black\" d=\"M655.71,-160.87C655.61,-152.89 655.51,-143.93 655.41,-135.38\"/>\n",
       "<polygon fill=\"black\" stroke=\"black\" points=\"658.91,-135.21 655.3,-125.25 651.91,-135.29 658.91,-135.21\"/>\n",
       "</g>\n",
       "<!-- 270 -->\n",
       "<g id=\"node13\" class=\"node\">\n",
       "<title>270</title>\n",
       "<polygon fill=\"#40e6c7\" stroke=\"black\" points=\"1005,-125 779,-125 779,-72 1005,-72 1005,-125\"/>\n",
       "<text text-anchor=\"middle\" x=\"892\" y=\"-109.8\" font-family=\"Helvetica,sans-Serif\" font-size=\"14.00\">temp_max &lt;= 6.95</text>\n",
       "<text text-anchor=\"middle\" x=\"892\" y=\"-94.8\" font-family=\"Helvetica,sans-Serif\" font-size=\"14.00\">samples = 43.5%</text>\n",
       "<text text-anchor=\"middle\" x=\"892\" y=\"-79.8\" font-family=\"Helvetica,sans-Serif\" font-size=\"14.00\">value = [0.0, 0.0, 0.967, 0.033, 0.0]</text>\n",
       "</g>\n",
       "<!-- 266&#45;&gt;270 -->\n",
       "<g id=\"edge12\" class=\"edge\">\n",
       "<title>266&#45;&gt;270</title>\n",
       "<path fill=\"none\" stroke=\"black\" d=\"M725.21,-160.98C752.83,-150.8 784.77,-139.03 813.27,-128.52\"/>\n",
       "<polygon fill=\"black\" stroke=\"black\" points=\"814.62,-131.76 822.79,-125.01 812.19,-125.19 814.62,-131.76\"/>\n",
       "</g>\n",
       "<!-- 268 -->\n",
       "<g id=\"node11\" class=\"node\">\n",
       "<title>268</title>\n",
       "<polygon fill=\"#c0c0c0\" stroke=\"black\" points=\"646,-36 592,-36 592,0 646,0 646,-36\"/>\n",
       "<text text-anchor=\"middle\" x=\"619\" y=\"-14.3\" font-family=\"Helvetica,sans-Serif\" font-size=\"14.00\">(...)</text>\n",
       "</g>\n",
       "<!-- 267&#45;&gt;268 -->\n",
       "<g id=\"edge10\" class=\"edge\">\n",
       "<title>267&#45;&gt;268</title>\n",
       "<path fill=\"none\" stroke=\"black\" d=\"M643.21,-71.8C639.34,-63.35 635.03,-53.95 631.13,-45.45\"/>\n",
       "<polygon fill=\"black\" stroke=\"black\" points=\"634.3,-43.96 626.95,-36.33 627.93,-46.88 634.3,-43.96\"/>\n",
       "</g>\n",
       "<!-- 269 -->\n",
       "<g id=\"node12\" class=\"node\">\n",
       "<title>269</title>\n",
       "<polygon fill=\"#c0c0c0\" stroke=\"black\" points=\"718,-36 664,-36 664,0 718,0 718,-36\"/>\n",
       "<text text-anchor=\"middle\" x=\"691\" y=\"-14.3\" font-family=\"Helvetica,sans-Serif\" font-size=\"14.00\">(...)</text>\n",
       "</g>\n",
       "<!-- 267&#45;&gt;269 -->\n",
       "<g id=\"edge11\" class=\"edge\">\n",
       "<title>267&#45;&gt;269</title>\n",
       "<path fill=\"none\" stroke=\"black\" d=\"M666.79,-71.8C670.66,-63.35 674.97,-53.95 678.87,-45.45\"/>\n",
       "<polygon fill=\"black\" stroke=\"black\" points=\"682.07,-46.88 683.05,-36.33 675.7,-43.96 682.07,-46.88\"/>\n",
       "</g>\n",
       "<!-- 271 -->\n",
       "<g id=\"node14\" class=\"node\">\n",
       "<title>271</title>\n",
       "<polygon fill=\"#c0c0c0\" stroke=\"black\" points=\"883,-36 829,-36 829,0 883,0 883,-36\"/>\n",
       "<text text-anchor=\"middle\" x=\"856\" y=\"-14.3\" font-family=\"Helvetica,sans-Serif\" font-size=\"14.00\">(...)</text>\n",
       "</g>\n",
       "<!-- 270&#45;&gt;271 -->\n",
       "<g id=\"edge13\" class=\"edge\">\n",
       "<title>270&#45;&gt;271</title>\n",
       "<path fill=\"none\" stroke=\"black\" d=\"M880.21,-71.8C876.34,-63.35 872.03,-53.95 868.13,-45.45\"/>\n",
       "<polygon fill=\"black\" stroke=\"black\" points=\"871.3,-43.96 863.95,-36.33 864.93,-46.88 871.3,-43.96\"/>\n",
       "</g>\n",
       "<!-- 286 -->\n",
       "<g id=\"node15\" class=\"node\">\n",
       "<title>286</title>\n",
       "<polygon fill=\"#c0c0c0\" stroke=\"black\" points=\"955,-36 901,-36 901,0 955,0 955,-36\"/>\n",
       "<text text-anchor=\"middle\" x=\"928\" y=\"-14.3\" font-family=\"Helvetica,sans-Serif\" font-size=\"14.00\">(...)</text>\n",
       "</g>\n",
       "<!-- 270&#45;&gt;286 -->\n",
       "<g id=\"edge14\" class=\"edge\">\n",
       "<title>270&#45;&gt;286</title>\n",
       "<path fill=\"none\" stroke=\"black\" d=\"M903.79,-71.8C907.66,-63.35 911.97,-53.95 915.87,-45.45\"/>\n",
       "<polygon fill=\"black\" stroke=\"black\" points=\"919.07,-46.88 920.05,-36.33 912.7,-43.96 919.07,-46.88\"/>\n",
       "</g>\n",
       "</g>\n",
       "</svg>\n"
      ],
      "text/plain": [
       "<graphviz.sources.Source at 0x7fe478107e80>"
      ]
     },
     "metadata": {},
     "output_type": "display_data"
    }
   ],
   "source": [
    "# Visualizing the Results\n",
    "for i in range(3):\n",
    "    tree = rf.estimators_[i]\n",
    "    dot_data = export_graphviz(tree,\n",
    "                               feature_names=X_train.columns,  \n",
    "                               filled=True,  \n",
    "                               max_depth=2, \n",
    "                               impurity=False, \n",
    "                               proportion=True)\n",
    "    graph = graphviz.Source(dot_data)\n",
    "    display(graph)"
   ]
  },
  {
   "cell_type": "code",
   "execution_count": 164,
   "id": "5f354940",
   "metadata": {},
   "outputs": [
    {
     "data": {
      "text/html": [
       "<style>#sk-container-id-8 {color: black;background-color: white;}#sk-container-id-8 pre{padding: 0;}#sk-container-id-8 div.sk-toggleable {background-color: white;}#sk-container-id-8 label.sk-toggleable__label {cursor: pointer;display: block;width: 100%;margin-bottom: 0;padding: 0.3em;box-sizing: border-box;text-align: center;}#sk-container-id-8 label.sk-toggleable__label-arrow:before {content: \"▸\";float: left;margin-right: 0.25em;color: #696969;}#sk-container-id-8 label.sk-toggleable__label-arrow:hover:before {color: black;}#sk-container-id-8 div.sk-estimator:hover label.sk-toggleable__label-arrow:before {color: black;}#sk-container-id-8 div.sk-toggleable__content {max-height: 0;max-width: 0;overflow: hidden;text-align: left;background-color: #f0f8ff;}#sk-container-id-8 div.sk-toggleable__content pre {margin: 0.2em;color: black;border-radius: 0.25em;background-color: #f0f8ff;}#sk-container-id-8 input.sk-toggleable__control:checked~div.sk-toggleable__content {max-height: 200px;max-width: 100%;overflow: auto;}#sk-container-id-8 input.sk-toggleable__control:checked~label.sk-toggleable__label-arrow:before {content: \"▾\";}#sk-container-id-8 div.sk-estimator input.sk-toggleable__control:checked~label.sk-toggleable__label {background-color: #d4ebff;}#sk-container-id-8 div.sk-label input.sk-toggleable__control:checked~label.sk-toggleable__label {background-color: #d4ebff;}#sk-container-id-8 input.sk-hidden--visually {border: 0;clip: rect(1px 1px 1px 1px);clip: rect(1px, 1px, 1px, 1px);height: 1px;margin: -1px;overflow: hidden;padding: 0;position: absolute;width: 1px;}#sk-container-id-8 div.sk-estimator {font-family: monospace;background-color: #f0f8ff;border: 1px dotted black;border-radius: 0.25em;box-sizing: border-box;margin-bottom: 0.5em;}#sk-container-id-8 div.sk-estimator:hover {background-color: #d4ebff;}#sk-container-id-8 div.sk-parallel-item::after {content: \"\";width: 100%;border-bottom: 1px solid gray;flex-grow: 1;}#sk-container-id-8 div.sk-label:hover label.sk-toggleable__label {background-color: #d4ebff;}#sk-container-id-8 div.sk-serial::before {content: \"\";position: absolute;border-left: 1px solid gray;box-sizing: border-box;top: 0;bottom: 0;left: 50%;z-index: 0;}#sk-container-id-8 div.sk-serial {display: flex;flex-direction: column;align-items: center;background-color: white;padding-right: 0.2em;padding-left: 0.2em;position: relative;}#sk-container-id-8 div.sk-item {position: relative;z-index: 1;}#sk-container-id-8 div.sk-parallel {display: flex;align-items: stretch;justify-content: center;background-color: white;position: relative;}#sk-container-id-8 div.sk-item::before, #sk-container-id-8 div.sk-parallel-item::before {content: \"\";position: absolute;border-left: 1px solid gray;box-sizing: border-box;top: 0;bottom: 0;left: 50%;z-index: -1;}#sk-container-id-8 div.sk-parallel-item {display: flex;flex-direction: column;z-index: 1;position: relative;background-color: white;}#sk-container-id-8 div.sk-parallel-item:first-child::after {align-self: flex-end;width: 50%;}#sk-container-id-8 div.sk-parallel-item:last-child::after {align-self: flex-start;width: 50%;}#sk-container-id-8 div.sk-parallel-item:only-child::after {width: 0;}#sk-container-id-8 div.sk-dashed-wrapped {border: 1px dashed gray;margin: 0 0.4em 0.5em 0.4em;box-sizing: border-box;padding-bottom: 0.4em;background-color: white;}#sk-container-id-8 div.sk-label label {font-family: monospace;font-weight: bold;display: inline-block;line-height: 1.2em;}#sk-container-id-8 div.sk-label-container {text-align: center;}#sk-container-id-8 div.sk-container {/* jupyter's `normalize.less` sets `[hidden] { display: none; }` but bootstrap.min.css set `[hidden] { display: none !important; }` so we also need the `!important` here to be able to override the default hidden behavior on the sphinx rendered scikit-learn.org. See: https://github.com/scikit-learn/scikit-learn/issues/21755 */display: inline-block !important;position: relative;}#sk-container-id-8 div.sk-text-repr-fallback {display: none;}</style><div id=\"sk-container-id-8\" class=\"sk-top-container\"><div class=\"sk-text-repr-fallback\"><pre>RandomizedSearchCV(cv=5, estimator=RandomForestClassifier(), n_iter=5,\n",
       "                   param_distributions={&#x27;max_depth&#x27;: &lt;scipy.stats._distn_infrastructure.rv_discrete_frozen object at 0x7fe476277b80&gt;,\n",
       "                                        &#x27;n_estimators&#x27;: &lt;scipy.stats._distn_infrastructure.rv_discrete_frozen object at 0x7fe4761ef220&gt;})</pre><b>In a Jupyter environment, please rerun this cell to show the HTML representation or trust the notebook. <br />On GitHub, the HTML representation is unable to render, please try loading this page with nbviewer.org.</b></div><div class=\"sk-container\" hidden><div class=\"sk-item sk-dashed-wrapped\"><div class=\"sk-label-container\"><div class=\"sk-label sk-toggleable\"><input class=\"sk-toggleable__control sk-hidden--visually\" id=\"sk-estimator-id-12\" type=\"checkbox\" ><label for=\"sk-estimator-id-12\" class=\"sk-toggleable__label sk-toggleable__label-arrow\">RandomizedSearchCV</label><div class=\"sk-toggleable__content\"><pre>RandomizedSearchCV(cv=5, estimator=RandomForestClassifier(), n_iter=5,\n",
       "                   param_distributions={&#x27;max_depth&#x27;: &lt;scipy.stats._distn_infrastructure.rv_discrete_frozen object at 0x7fe476277b80&gt;,\n",
       "                                        &#x27;n_estimators&#x27;: &lt;scipy.stats._distn_infrastructure.rv_discrete_frozen object at 0x7fe4761ef220&gt;})</pre></div></div></div><div class=\"sk-parallel\"><div class=\"sk-parallel-item\"><div class=\"sk-item\"><div class=\"sk-label-container\"><div class=\"sk-label sk-toggleable\"><input class=\"sk-toggleable__control sk-hidden--visually\" id=\"sk-estimator-id-13\" type=\"checkbox\" ><label for=\"sk-estimator-id-13\" class=\"sk-toggleable__label sk-toggleable__label-arrow\">estimator: RandomForestClassifier</label><div class=\"sk-toggleable__content\"><pre>RandomForestClassifier()</pre></div></div></div><div class=\"sk-serial\"><div class=\"sk-item\"><div class=\"sk-estimator sk-toggleable\"><input class=\"sk-toggleable__control sk-hidden--visually\" id=\"sk-estimator-id-14\" type=\"checkbox\" ><label for=\"sk-estimator-id-14\" class=\"sk-toggleable__label sk-toggleable__label-arrow\">RandomForestClassifier</label><div class=\"sk-toggleable__content\"><pre>RandomForestClassifier()</pre></div></div></div></div></div></div></div></div></div></div>"
      ],
      "text/plain": [
       "RandomizedSearchCV(cv=5, estimator=RandomForestClassifier(), n_iter=5,\n",
       "                   param_distributions={'max_depth': <scipy.stats._distn_infrastructure.rv_discrete_frozen object at 0x7fe476277b80>,\n",
       "                                        'n_estimators': <scipy.stats._distn_infrastructure.rv_discrete_frozen object at 0x7fe4761ef220>})"
      ]
     },
     "execution_count": 164,
     "metadata": {},
     "output_type": "execute_result"
    }
   ],
   "source": [
    "param_dist = {'n_estimators': randint(50,500),\n",
    "              'max_depth': randint(1,20)}\n",
    "\n",
    "# Create a random forest classifier\n",
    "rf = RandomForestClassifier()\n",
    "\n",
    "# Use random search to find the best hyperparameters\n",
    "rand_search = RandomizedSearchCV(rf, \n",
    "                                 param_distributions = param_dist, \n",
    "                                 n_iter=5, \n",
    "                                 cv=5)\n",
    "\n",
    "# Fit the random search object to the data\n",
    "rand_search.fit(X_train, y_train)"
   ]
  },
  {
   "cell_type": "code",
   "execution_count": 165,
   "id": "68b06ca3",
   "metadata": {},
   "outputs": [
    {
     "name": "stdout",
     "output_type": "stream",
     "text": [
      "Best hyperparameters: {'max_depth': 3, 'n_estimators': 115}\n"
     ]
    }
   ],
   "source": [
    "# Create a variable for the best model\n",
    "best_rf = rand_search.best_estimator_\n",
    "\n",
    "# Print the best hyperparameters\n",
    "print('Best hyperparameters:',  rand_search.best_params_)"
   ]
  },
  {
   "cell_type": "code",
   "execution_count": 166,
   "id": "f3bf5179",
   "metadata": {},
   "outputs": [
    {
     "data": {
      "image/png": "[encoded data removed]",
      "text/plain": [
       "<Figure size 640x480 with 2 Axes>"
      ]
     },
     "metadata": {},
     "output_type": "display_data"
    }
   ],
   "source": [
    "# Generate predictions with the best model\n",
    "y_predrf = best_rf.predict(X_test)\n",
    "\n",
    "# Create the confusion matrix\n",
    "cm = confusion_matrix(y_test, y_predrf)\n",
    "\n",
    "ConfusionMatrixDisplay(confusion_matrix=cm).plot();"
   ]
  },
  {
   "cell_type": "code",
   "execution_count": 167,
   "id": "29ae43d2",
   "metadata": {},
   "outputs": [
    {
     "data": {
      "image/png": "[encoded data removed]",
      "text/plain": [
       "<Figure size 640x480 with 1 Axes>"
      ]
     },
     "metadata": {},
     "output_type": "display_data"
    }
   ],
   "source": [
    "# Create a series containing feature importances from the model and feature names from the training data\n",
    "feature_importances = pd.Series(best_rf.feature_importances_, index=X_train.columns).sort_values(ascending=False)\n",
    "\n",
    "# Plot a simple bar chart\n",
    "feature_importances.plot.bar();"
   ]
  },
  {
   "cell_type": "code",
   "execution_count": 168,
   "id": "382e8a1e",
   "metadata": {},
   "outputs": [],
   "source": [
    "# This tells us that the precipitayion, at the time of the call, \n",
    "# was the biggest predictor in weather prediction"
   ]
  },
  {
   "cell_type": "code",
   "execution_count": 169,
   "id": "dcf1e958",
   "metadata": {},
   "outputs": [
    {
     "name": "stdout",
     "output_type": "stream",
     "text": [
      "Accuracy: 0.8542141230068337\n",
      "              precision    recall  f1-score   support\n",
      "\n",
      "     drizzle       0.00      0.00      0.00        17\n",
      "         fog       0.00      0.00      0.00        28\n",
      "        rain       0.97      0.93      0.95       194\n",
      "        snow       0.50      0.14      0.22         7\n",
      "         sun       0.77      1.00      0.87       193\n",
      "\n",
      "    accuracy                           0.85       439\n",
      "   macro avg       0.45      0.42      0.41       439\n",
      "weighted avg       0.78      0.85      0.81       439\n",
      "\n"
     ]
    },
    {
     "name": "stderr",
     "output_type": "stream",
     "text": [
      "/Users/aidenliang/anaconda3/lib/python3.10/site-packages/sklearn/metrics/_classification.py:1344: UndefinedMetricWarning: Precision and F-score are ill-defined and being set to 0.0 in labels with no predicted samples. Use `zero_division` parameter to control this behavior.\n",
      "  _warn_prf(average, modifier, msg_start, len(result))\n",
      "/Users/aidenliang/anaconda3/lib/python3.10/site-packages/sklearn/metrics/_classification.py:1344: UndefinedMetricWarning: Precision and F-score are ill-defined and being set to 0.0 in labels with no predicted samples. Use `zero_division` parameter to control this behavior.\n",
      "  _warn_prf(average, modifier, msg_start, len(result))\n",
      "/Users/aidenliang/anaconda3/lib/python3.10/site-packages/sklearn/metrics/_classification.py:1344: UndefinedMetricWarning: Precision and F-score are ill-defined and being set to 0.0 in labels with no predicted samples. Use `zero_division` parameter to control this behavior.\n",
      "  _warn_prf(average, modifier, msg_start, len(result))\n"
     ]
    }
   ],
   "source": [
    "accuracy = accuracy_score(y_test, y_predrf)\n",
    "\n",
    "print(\"Accuracy:\", accuracy)\n",
    "print(classification_report(y_test, y_predrf))"
   ]
  },
  {
   "cell_type": "code",
   "execution_count": 170,
   "id": "d198fb1d",
   "metadata": {},
   "outputs": [
    {
     "name": "stdout",
     "output_type": "stream",
     "text": [
      "Accuracy Score : 0.85\n",
      "Precision Score : 0.45\n",
      "Recall Score : 0.42\n",
      "F1 Score : 0.41\n"
     ]
    },
    {
     "name": "stderr",
     "output_type": "stream",
     "text": [
      "/Users/aidenliang/anaconda3/lib/python3.10/site-packages/sklearn/metrics/_classification.py:1344: UndefinedMetricWarning: Precision is ill-defined and being set to 0.0 in labels with no predicted samples. Use `zero_division` parameter to control this behavior.\n",
      "  _warn_prf(average, modifier, msg_start, len(result))\n"
     ]
    }
   ],
   "source": [
    "print('Accuracy Score : ' + str(round(accuracy_score(y_test, y_predrf), 2)))\n",
    "print('Precision Score : ' + str(round(precision_score(y_test, y_predrf, average='macro'), 2)))\n",
    "print('Recall Score : ' + str(round(recall_score(y_test, y_predrf, average='macro'), 2)))\n",
    "print('F1 Score : ' + str(round(f1_score(y_test, y_predrf, average='macro'), 2)))\n"
   ]
  },
  {
   "cell_type": "code",
   "execution_count": 171,
   "id": "cfaf1f15",
   "metadata": {},
   "outputs": [],
   "source": [
    "# Random Forest model has accuracy: 0.860."
   ]
  },
  {
   "cell_type": "code",
   "execution_count": 172,
   "id": "3629244f",
   "metadata": {},
   "outputs": [],
   "source": [
    "# The kNN algorithm can be considered a voting system, \n",
    "# where the majority class label determines the class label of a new data point among its nearest ‘k’ \n",
    "#(where k is an integer) neighbors in the feature space."
   ]
  },
  {
   "cell_type": "code",
   "execution_count": 173,
   "id": "acc9d811",
   "metadata": {},
   "outputs": [
    {
     "data": {
      "text/html": [
       "<style>#sk-container-id-9 {color: black;background-color: white;}#sk-container-id-9 pre{padding: 0;}#sk-container-id-9 div.sk-toggleable {background-color: white;}#sk-container-id-9 label.sk-toggleable__label {cursor: pointer;display: block;width: 100%;margin-bottom: 0;padding: 0.3em;box-sizing: border-box;text-align: center;}#sk-container-id-9 label.sk-toggleable__label-arrow:before {content: \"▸\";float: left;margin-right: 0.25em;color: #696969;}#sk-container-id-9 label.sk-toggleable__label-arrow:hover:before {color: black;}#sk-container-id-9 div.sk-estimator:hover label.sk-toggleable__label-arrow:before {color: black;}#sk-container-id-9 div.sk-toggleable__content {max-height: 0;max-width: 0;overflow: hidden;text-align: left;background-color: #f0f8ff;}#sk-container-id-9 div.sk-toggleable__content pre {margin: 0.2em;color: black;border-radius: 0.25em;background-color: #f0f8ff;}#sk-container-id-9 input.sk-toggleable__control:checked~div.sk-toggleable__content {max-height: 200px;max-width: 100%;overflow: auto;}#sk-container-id-9 input.sk-toggleable__control:checked~label.sk-toggleable__label-arrow:before {content: \"▾\";}#sk-container-id-9 div.sk-estimator input.sk-toggleable__control:checked~label.sk-toggleable__label {background-color: #d4ebff;}#sk-container-id-9 div.sk-label input.sk-toggleable__control:checked~label.sk-toggleable__label {background-color: #d4ebff;}#sk-container-id-9 input.sk-hidden--visually {border: 0;clip: rect(1px 1px 1px 1px);clip: rect(1px, 1px, 1px, 1px);height: 1px;margin: -1px;overflow: hidden;padding: 0;position: absolute;width: 1px;}#sk-container-id-9 div.sk-estimator {font-family: monospace;background-color: #f0f8ff;border: 1px dotted black;border-radius: 0.25em;box-sizing: border-box;margin-bottom: 0.5em;}#sk-container-id-9 div.sk-estimator:hover {background-color: #d4ebff;}#sk-container-id-9 div.sk-parallel-item::after {content: \"\";width: 100%;border-bottom: 1px solid gray;flex-grow: 1;}#sk-container-id-9 div.sk-label:hover label.sk-toggleable__label {background-color: #d4ebff;}#sk-container-id-9 div.sk-serial::before {content: \"\";position: absolute;border-left: 1px solid gray;box-sizing: border-box;top: 0;bottom: 0;left: 50%;z-index: 0;}#sk-container-id-9 div.sk-serial {display: flex;flex-direction: column;align-items: center;background-color: white;padding-right: 0.2em;padding-left: 0.2em;position: relative;}#sk-container-id-9 div.sk-item {position: relative;z-index: 1;}#sk-container-id-9 div.sk-parallel {display: flex;align-items: stretch;justify-content: center;background-color: white;position: relative;}#sk-container-id-9 div.sk-item::before, #sk-container-id-9 div.sk-parallel-item::before {content: \"\";position: absolute;border-left: 1px solid gray;box-sizing: border-box;top: 0;bottom: 0;left: 50%;z-index: -1;}#sk-container-id-9 div.sk-parallel-item {display: flex;flex-direction: column;z-index: 1;position: relative;background-color: white;}#sk-container-id-9 div.sk-parallel-item:first-child::after {align-self: flex-end;width: 50%;}#sk-container-id-9 div.sk-parallel-item:last-child::after {align-self: flex-start;width: 50%;}#sk-container-id-9 div.sk-parallel-item:only-child::after {width: 0;}#sk-container-id-9 div.sk-dashed-wrapped {border: 1px dashed gray;margin: 0 0.4em 0.5em 0.4em;box-sizing: border-box;padding-bottom: 0.4em;background-color: white;}#sk-container-id-9 div.sk-label label {font-family: monospace;font-weight: bold;display: inline-block;line-height: 1.2em;}#sk-container-id-9 div.sk-label-container {text-align: center;}#sk-container-id-9 div.sk-container {/* jupyter's `normalize.less` sets `[hidden] { display: none; }` but bootstrap.min.css set `[hidden] { display: none !important; }` so we also need the `!important` here to be able to override the default hidden behavior on the sphinx rendered scikit-learn.org. See: https://github.com/scikit-learn/scikit-learn/issues/21755 */display: inline-block !important;position: relative;}#sk-container-id-9 div.sk-text-repr-fallback {display: none;}</style><div id=\"sk-container-id-9\" class=\"sk-top-container\"><div class=\"sk-text-repr-fallback\"><pre>KNeighborsClassifier(n_neighbors=3)</pre><b>In a Jupyter environment, please rerun this cell to show the HTML representation or trust the notebook. <br />On GitHub, the HTML representation is unable to render, please try loading this page with nbviewer.org.</b></div><div class=\"sk-container\" hidden><div class=\"sk-item\"><div class=\"sk-estimator sk-toggleable\"><input class=\"sk-toggleable__control sk-hidden--visually\" id=\"sk-estimator-id-15\" type=\"checkbox\" checked><label for=\"sk-estimator-id-15\" class=\"sk-toggleable__label sk-toggleable__label-arrow\">KNeighborsClassifier</label><div class=\"sk-toggleable__content\"><pre>KNeighborsClassifier(n_neighbors=3)</pre></div></div></div></div></div>"
      ],
      "text/plain": [
       "KNeighborsClassifier(n_neighbors=3)"
      ]
     },
     "execution_count": 173,
     "metadata": {},
     "output_type": "execute_result"
    }
   ],
   "source": [
    "# create knn model\n",
    "scaler = StandardScaler()\n",
    "X_train = scaler.fit_transform(X_train)\n",
    "X_test = scaler.transform(X_test)\n",
    "# Fitting and Evaluating the Model\n",
    "# For this, we’ll use a fixed value of 3 for k, but we’ll need to optimize this later on. \n",
    "from sklearn.neighbors import KNeighborsClassifier\n",
    "knn = KNeighborsClassifier(n_neighbors=3)\n",
    "knn.fit(X_train, y_train)"
   ]
  },
  {
   "cell_type": "code",
   "execution_count": 174,
   "id": "7e2ecd4e",
   "metadata": {},
   "outputs": [
    {
     "name": "stdout",
     "output_type": "stream",
     "text": [
      "Accuracy: 0.6947608200455581\n"
     ]
    }
   ],
   "source": [
    "y_predknn = knn.predict(X_test)\n",
    "accuracy = accuracy_score(y_test, y_predknn)\n",
    "print(\"Accuracy:\", accuracy)"
   ]
  },
  {
   "cell_type": "code",
   "execution_count": 175,
   "id": "2b8791b4",
   "metadata": {},
   "outputs": [
    {
     "name": "stdout",
     "output_type": "stream",
     "text": [
      "Accuracy Score : 0.69\n",
      "Precision Score : 0.58\n",
      "Recall Score : 0.42\n",
      "F1 Score : 0.44\n"
     ]
    }
   ],
   "source": [
    "print('Accuracy Score : ' + str(round(accuracy_score(y_test, y_predknn), 2)))\n",
    "print('Precision Score : ' + str(round(precision_score(y_test, y_predknn, average='macro'), 2)))\n",
    "print('Recall Score : ' + str(round(recall_score(y_test, y_predknn, average='macro'), 2)))\n",
    "print('F1 Score : ' + str(round(f1_score(y_test, y_predknn, average='macro'), 2)))"
   ]
  },
  {
   "cell_type": "code",
   "execution_count": 176,
   "id": "af405c53",
   "metadata": {},
   "outputs": [],
   "source": [
    "# Using Cross Validation to Get the Best Value of k\n",
    "# we select a range of values for k and create an empty list to store our results. \n",
    "# We use cross-validation to find the accuracy scores, \n",
    "# which means we don’t need to create a training and test split, \n",
    "# but we do need to scale our data. We then loop over the values and add the scores to our list.\n",
    "k_values = [i for i in range (1,31)]\n",
    "scores = []\n",
    "\n",
    "scaler = StandardScaler()\n",
    "X = scaler.fit_transform(X)\n",
    "\n",
    "for k in k_values:\n",
    "    knn = KNeighborsClassifier(n_neighbors=k)\n",
    "    score = cross_val_score(knn, X, y, cv=5)\n",
    "    scores.append(np.mean(score))"
   ]
  },
  {
   "cell_type": "code",
   "execution_count": 177,
   "id": "a38a0c35",
   "metadata": {},
   "outputs": [],
   "source": [
    "# We can now train our model using the best k value using the code below.\n",
    "best_index = np.argmax(scores)\n",
    "best_k = k_values[best_index]\n",
    "\n",
    "knn = KNeighborsClassifier(n_neighbors=best_k)\n",
    "knn.fit(X_train, y_train)\n",
    "y_predknn = knn.predict(X_test)"
   ]
  },
  {
   "cell_type": "code",
   "execution_count": 179,
   "id": "b0fdcdf4",
   "metadata": {},
   "outputs": [
    {
     "data": {
      "image/png": "[encoded data removed]",
      "text/plain": [
       "<Figure size 640x480 with 2 Axes>"
      ]
     },
     "metadata": {},
     "output_type": "display_data"
    }
   ],
   "source": [
    "# Create the confusion matrix\n",
    "cm = confusion_matrix(y_test, y_predknn)\n",
    "\n",
    "ConfusionMatrixDisplay(confusion_matrix=cm).plot();"
   ]
  },
  {
   "cell_type": "code",
   "execution_count": 180,
   "id": "e396b5b4",
   "metadata": {},
   "outputs": [
    {
     "name": "stdout",
     "output_type": "stream",
     "text": [
      "Accuracy: 0.7289293849658315\n"
     ]
    }
   ],
   "source": [
    "y_predknn = knn.predict(X_test)\n",
    "\n",
    "accuracy = accuracy_score(y_test, y_predknn)\n",
    "\n",
    "\n",
    "print(\"Accuracy:\", accuracy)"
   ]
  },
  {
   "cell_type": "code",
   "execution_count": 181,
   "id": "c0011fa7",
   "metadata": {},
   "outputs": [],
   "source": [
    "# Thus, KNN model has accuracy 0.744."
   ]
  },
  {
   "cell_type": "code",
   "execution_count": 183,
   "id": "3bd3ca46",
   "metadata": {},
   "outputs": [],
   "source": [
    "# create decision tree model\n",
    "# Split dataset into training set and test set\n",
    "X_train, X_test, y_train, y_test = train_test_split(X, y, test_size=0.3, random_state=1) # 70% training and 30% test\n",
    "# Create Decision Tree classifer object\n",
    "from sklearn.tree import DecisionTreeClassifier # Import Decision Tree Classifier\n",
    "\n",
    "clf = DecisionTreeClassifier()\n",
    "\n",
    "# Train Decision Tree Classifer\n",
    "clf = clf.fit(X_train,y_train)\n",
    "\n",
    "#Predict the response for test dataset\n",
    "y_pred = clf.predict(X_test)"
   ]
  },
  {
   "cell_type": "code",
   "execution_count": 184,
   "id": "e3738931",
   "metadata": {},
   "outputs": [
    {
     "name": "stdout",
     "output_type": "stream",
     "text": [
      "Accuracy: 0.7562642369020501\n"
     ]
    }
   ],
   "source": [
    "# Model Accuracy before opmization\n",
    "print(\"Accuracy:\",metrics.accuracy_score(y_test, y_pred))"
   ]
  },
  {
   "cell_type": "code",
   "execution_count": 185,
   "id": "acad0176",
   "metadata": {},
   "outputs": [
    {
     "name": "stdout",
     "output_type": "stream",
     "text": [
      "Accuracy: 0.8428246013667426\n"
     ]
    },
    {
     "data": {
      "image/png": "[encoded data removed]",
      "text/plain": [
       "<Figure size 640x480 with 2 Axes>"
      ]
     },
     "metadata": {},
     "output_type": "display_data"
    }
   ],
   "source": [
    "# In Scikit-learn, optimization of decision tree classifier performed by only pre-pruning. \n",
    "# Maximum depth of the tree can be used as a control variable for pre-pruning. \n",
    "# In the model, we plot a decision tree on the same data with max_depth=3. \n",
    "# We also use attribute selection measure entropy.\n",
    "\n",
    "# Create Decision Tree classifer object\n",
    "clf = DecisionTreeClassifier(criterion=\"entropy\", max_depth=3)\n",
    "\n",
    "# Train Decision Tree Classifer\n",
    "clf = clf.fit(X_train,y_train)\n",
    "\n",
    "#Predict the response for test dataset\n",
    "y_preddt = clf.predict(X_test)\n",
    "\n",
    "# Model Accuracy, how often is the classifier correct?\n",
    "print(\"Accuracy:\",metrics.accuracy_score(y_test, y_preddt))\n",
    "# Create the confusion matrix\n",
    "cm = confusion_matrix(y_test, y_preddt)\n",
    "\n",
    "ConfusionMatrixDisplay(confusion_matrix=cm).plot();"
   ]
  },
  {
   "cell_type": "code",
   "execution_count": 45,
   "id": "e892c499",
   "metadata": {},
   "outputs": [],
   "source": [
    "# Therefore, Decision tree model has accuracy 0.843 ."
   ]
  },
  {
   "cell_type": "code",
   "execution_count": 122,
   "id": "c2741112",
   "metadata": {},
   "outputs": [
    {
     "name": "stdout",
     "output_type": "stream",
     "text": [
      "            date  precipitation  temp_max  temp_min  wind  weather\n",
      "0     2012-01-01            0.0      12.8       5.0   4.7        0\n",
      "1     2012-01-02           10.9      10.6       2.8   4.5        1\n",
      "2     2012-01-03            0.8      11.7       7.2   2.3        1\n",
      "3     2012-01-04           20.3      12.2       5.6   4.7        1\n",
      "4     2012-01-05            1.3       8.9       2.8   6.1        1\n",
      "...          ...            ...       ...       ...   ...      ...\n",
      "1456  2015-12-27            8.6       4.4       1.7   2.9        1\n",
      "1457  2015-12-28            1.5       5.0       1.7   1.3        1\n",
      "1458  2015-12-29            0.0       7.2       0.6   2.6        4\n",
      "1459  2015-12-30            0.0       5.6      -1.0   3.4        2\n",
      "1460  2015-12-31            0.0       5.6      -2.1   3.5        2\n",
      "\n",
      "[1461 rows x 6 columns]\n",
      "Index(['precipitation', 'temp_max', 'temp_min', 'wind'], dtype='object')\n",
      "The dimension of X_train is (1022, 4)\n",
      "The dimension of X_test is (439, 4)\n"
     ]
    }
   ],
   "source": [
    "# LASSO and Ridge regression\n",
    "wp = pd.read_csv(\"weatherprediction.csv\")\n",
    "\n",
    "# convert catergory variable to number\n",
    "wp['weather'].replace(['drizzle', 'rain', 'sun','snow','fog'],\n",
    "                        [0, 1,2,3,4], inplace=True)\n",
    "\n",
    "print(wp)\n",
    "y = wp.weather # Target variable\n",
    "\n",
    "features = wp.columns[1:5]\n",
    "print(features)\n",
    "X = wp[features].values\n",
    "\n",
    "X_train, X_test, y_train, y_test = train_test_split(X, y, test_size=0.3, random_state=10) # 70% training and 30% test\n",
    "print(\"The dimension of X_train is {}\".format(X_train.shape))\n",
    "print(\"The dimension of X_test is {}\".format(X_test.shape))\n",
    "#Scale features\n",
    "scaler = StandardScaler()\n",
    "X_train = scaler.fit_transform(X_train)\n",
    "X_test = scaler.transform(X_test)"
   ]
  },
  {
   "cell_type": "code",
   "execution_count": 123,
   "id": "a3119a6f",
   "metadata": {},
   "outputs": [
    {
     "name": "stdout",
     "output_type": "stream",
     "text": [
      "The train score for lr model is 0.13733858707625857\n",
      "The test score for lr model is 0.13242588550716383\n"
     ]
    }
   ],
   "source": [
    "#Model\n",
    "from sklearn.linear_model import LinearRegression\n",
    "from sklearn.linear_model import Ridge, RidgeCV, Lasso\n",
    "\n",
    "lr = LinearRegression()\n",
    "\n",
    "#Fit model\n",
    "lr.fit(X_train, y_train)\n",
    "\n",
    "#predict\n",
    "prediction = lr.predict(X_test)\n",
    "#actual\n",
    "actual = y_test\n",
    "\n",
    "train_score_lr = lr.score(X_train, y_train)\n",
    "test_score_lr = lr.score(X_test, y_test)\n",
    "\n",
    "print(\"The train score for lr model is {}\".format(train_score_lr))\n",
    "print(\"The test score for lr model is {}\".format(test_score_lr))"
   ]
  },
  {
   "cell_type": "code",
   "execution_count": 124,
   "id": "596be6df",
   "metadata": {},
   "outputs": [
    {
     "name": "stdout",
     "output_type": "stream",
     "text": [
      "\n",
      "Ridge Model............................................\n",
      "\n",
      "The train score for ridge model is 0.13703769040890146\n",
      "The test score for ridge model is 0.13352886490611127\n"
     ]
    }
   ],
   "source": [
    "#Ridge Regression Model\n",
    "ridgeReg = Ridge(alpha=10)\n",
    "\n",
    "ridgeReg.fit(X_train,y_train)\n",
    "\n",
    "#train and test scorefor ridge regression\n",
    "train_score_ridge = ridgeReg.score(X_train, y_train)\n",
    "test_score_ridge = ridgeReg.score(X_test, y_test)\n",
    "\n",
    "print(\"\\nRidge Model............................................\\n\")\n",
    "print(\"The train score for ridge model is {}\".format(train_score_ridge))\n",
    "print(\"The test score for ridge model is {}\".format(test_score_ridge))"
   ]
  },
  {
   "cell_type": "code",
   "execution_count": 125,
   "id": "201dab25",
   "metadata": {},
   "outputs": [
    {
     "name": "stdout",
     "output_type": "stream",
     "text": [
      "\n",
      "Lasso Model............................................\n",
      "\n",
      "The train score for ls model is 0.0\n",
      "The test score for ls model is -0.001195612357521858\n"
     ]
    }
   ],
   "source": [
    "#Lasso regression model\n",
    "print(\"\\nLasso Model............................................\\n\")\n",
    "lasso = Lasso(alpha = 10)\n",
    "lasso.fit(X_train,y_train)\n",
    "train_score_ls =lasso.score(X_train,y_train)\n",
    "test_score_ls =lasso.score(X_test,y_test)\n",
    "\n",
    "print(\"The train score for ls model is {}\".format(train_score_ls))\n",
    "print(\"The test score for ls model is {}\".format(test_score_ls))"
   ]
  },
  {
   "cell_type": "code",
   "execution_count": 126,
   "id": "0fc4fc28",
   "metadata": {},
   "outputs": [
    {
     "data": {
      "image/png": "[encoded data removed]",
      "text/plain": [
       "<Figure size 1000x1000 with 1 Axes>"
      ]
     },
     "metadata": {},
     "output_type": "display_data"
    }
   ],
   "source": [
    "# Using an alpha value of 10, the evaluation of the model, the train, \n",
    "# and test data indicate better performance on the ridge model than on the linear regression model.\n",
    "\n",
    "# We can also plot the coefficients for both the linear and ridge models.\n",
    "plt.figure(figsize = (10, 10))\n",
    "plt.plot(features,ridgeReg.coef_,alpha=0.7,linestyle='none',marker='*',markersize=5,color='red',label=r'Ridge; $\\alpha = 10$',zorder=7)\n",
    "#plt.plot(rr100.coef_,alpha=0.5,linestyle='none',marker='d',markersize=6,color='blue',label=r'Ridge; $\\alpha = 100$')\n",
    "plt.plot(features,lr.coef_,alpha=0.4,linestyle='none',marker='o',markersize=7,color='green',label='Linear Regression')\n",
    "plt.xticks(rotation = 90)\n",
    "plt.legend()\n",
    "plt.show()"
   ]
  },
  {
   "cell_type": "code",
   "execution_count": 121,
   "id": "89e7e18d",
   "metadata": {},
   "outputs": [
    {
     "name": "stdout",
     "output_type": "stream",
     "text": [
      "Index(['precipitation', 'temp_max', 'temp_min', 'wind'], dtype='object')\n"
     ]
    },
    {
     "data": {
      "text/plain": [
       "<Axes: >"
      ]
     },
     "execution_count": 121,
     "metadata": {},
     "output_type": "execute_result"
    },
    {
     "data": {
      "image/png": "[encoded data removed]",
      "text/plain": [
       "<Figure size 640x480 with 1 Axes>"
      ]
     },
     "metadata": {},
     "output_type": "display_data"
    }
   ],
   "source": [
    "# We can visualize the coefficients too.\n",
    "pd.Series(lasso.coef_, features).sort_values(ascending = True).plot(kind = \"bar\")\n"
   ]
  },
  {
   "cell_type": "code",
   "execution_count": 127,
   "id": "3aaada0c",
   "metadata": {},
   "outputs": [],
   "source": [
    "# Earlier on, we established that the lasso model can inert to zero due to the diamond shape of the constraint region.\n",
    "# In this case, using an alpha value of 10 over penalizes the model and shrinks all the values to zero. \n",
    "# We can see this effectively by visualizing the coefficients of the model as shown in the figure above.\n",
    "\n"
   ]
  },
  {
   "cell_type": "code",
   "execution_count": 128,
   "id": "94f720d3",
   "metadata": {},
   "outputs": [
    {
     "name": "stdout",
     "output_type": "stream",
     "text": [
      "0.13731703064715872\n",
      "0.13275024428770554\n"
     ]
    }
   ],
   "source": [
    "# Selecting Optimal Alpha Values Using Cross-Validation in Sklearn\n",
    "# Using the linear CV model\n",
    "from sklearn.linear_model import LassoCV\n",
    "\n",
    "#Lasso Cross validation\n",
    "lasso_cv = LassoCV(alphas = [0.0001, 0.001,0.01, 0.1, 1, 10], random_state=0).fit(X_train, y_train)\n",
    "\n",
    "\n",
    "#score\n",
    "print(lasso_cv.score(X_train, y_train))\n",
    "print(lasso_cv.score(X_test, y_test))"
   ]
  },
  {
   "cell_type": "code",
   "execution_count": 129,
   "id": "5471d7ce",
   "metadata": {},
   "outputs": [],
   "source": [
    "# Therefore, LASSO regression and Ridge regression is not a good model for weather prediction \n",
    "# since it has very low score."
   ]
  },
  {
   "cell_type": "code",
   "execution_count": 130,
   "id": "043262b9",
   "metadata": {},
   "outputs": [
    {
     "name": "stdout",
     "output_type": "stream",
     "text": [
      "Requirement already satisfied: imbalanced-learn in /Users/aidenliang/anaconda3/lib/python3.10/site-packages (0.10.1)\n",
      "Requirement already satisfied: scipy>=1.3.2 in /Users/aidenliang/anaconda3/lib/python3.10/site-packages (from imbalanced-learn) (1.10.0)\n",
      "Requirement already satisfied: numpy>=1.17.3 in /Users/aidenliang/anaconda3/lib/python3.10/site-packages (from imbalanced-learn) (1.23.5)\n",
      "Requirement already satisfied: scikit-learn>=1.0.2 in /Users/aidenliang/anaconda3/lib/python3.10/site-packages (from imbalanced-learn) (1.2.1)\n",
      "Requirement already satisfied: joblib>=1.1.1 in /Users/aidenliang/anaconda3/lib/python3.10/site-packages (from imbalanced-learn) (1.1.1)\n",
      "Requirement already satisfied: threadpoolctl>=2.0.0 in /Users/aidenliang/anaconda3/lib/python3.10/site-packages (from imbalanced-learn) (2.2.0)\n",
      "Note: you may need to restart the kernel to use updated packages.\n"
     ]
    }
   ],
   "source": [
    "pip install -U imbalanced-learn\n"
   ]
  },
  {
   "cell_type": "code",
   "execution_count": 131,
   "id": "0e542df2",
   "metadata": {},
   "outputs": [
    {
     "data": {
      "text/html": [
       "<div>\n",
       "<style scoped>\n",
       "    .dataframe tbody tr th:only-of-type {\n",
       "        vertical-align: middle;\n",
       "    }\n",
       "\n",
       "    .dataframe tbody tr th {\n",
       "        vertical-align: top;\n",
       "    }\n",
       "\n",
       "    .dataframe thead th {\n",
       "        text-align: right;\n",
       "    }\n",
       "</style>\n",
       "<table border=\"1\" class=\"dataframe\">\n",
       "  <thead>\n",
       "    <tr style=\"text-align: right;\">\n",
       "      <th></th>\n",
       "      <th>precipitation</th>\n",
       "      <th>temp_max</th>\n",
       "      <th>temp_min</th>\n",
       "      <th>wind</th>\n",
       "      <th>year</th>\n",
       "      <th>month</th>\n",
       "      <th>day</th>\n",
       "      <th>label_weather</th>\n",
       "    </tr>\n",
       "    <tr>\n",
       "      <th>date</th>\n",
       "      <th></th>\n",
       "      <th></th>\n",
       "      <th></th>\n",
       "      <th></th>\n",
       "      <th></th>\n",
       "      <th></th>\n",
       "      <th></th>\n",
       "      <th></th>\n",
       "    </tr>\n",
       "  </thead>\n",
       "  <tbody>\n",
       "    <tr>\n",
       "      <th>1325376000000000000</th>\n",
       "      <td>0.0</td>\n",
       "      <td>12.8</td>\n",
       "      <td>5.0</td>\n",
       "      <td>4.7</td>\n",
       "      <td>2012</td>\n",
       "      <td>1</td>\n",
       "      <td>1</td>\n",
       "      <td>0</td>\n",
       "    </tr>\n",
       "    <tr>\n",
       "      <th>1325462400000000000</th>\n",
       "      <td>10.9</td>\n",
       "      <td>10.6</td>\n",
       "      <td>2.8</td>\n",
       "      <td>4.5</td>\n",
       "      <td>2012</td>\n",
       "      <td>1</td>\n",
       "      <td>2</td>\n",
       "      <td>2</td>\n",
       "    </tr>\n",
       "    <tr>\n",
       "      <th>1325548800000000000</th>\n",
       "      <td>0.8</td>\n",
       "      <td>11.7</td>\n",
       "      <td>7.2</td>\n",
       "      <td>2.3</td>\n",
       "      <td>2012</td>\n",
       "      <td>1</td>\n",
       "      <td>3</td>\n",
       "      <td>2</td>\n",
       "    </tr>\n",
       "    <tr>\n",
       "      <th>1325635200000000000</th>\n",
       "      <td>20.3</td>\n",
       "      <td>12.2</td>\n",
       "      <td>5.6</td>\n",
       "      <td>4.7</td>\n",
       "      <td>2012</td>\n",
       "      <td>1</td>\n",
       "      <td>4</td>\n",
       "      <td>2</td>\n",
       "    </tr>\n",
       "    <tr>\n",
       "      <th>1325721600000000000</th>\n",
       "      <td>1.3</td>\n",
       "      <td>8.9</td>\n",
       "      <td>2.8</td>\n",
       "      <td>6.1</td>\n",
       "      <td>2012</td>\n",
       "      <td>1</td>\n",
       "      <td>5</td>\n",
       "      <td>2</td>\n",
       "    </tr>\n",
       "    <tr>\n",
       "      <th>...</th>\n",
       "      <td>...</td>\n",
       "      <td>...</td>\n",
       "      <td>...</td>\n",
       "      <td>...</td>\n",
       "      <td>...</td>\n",
       "      <td>...</td>\n",
       "      <td>...</td>\n",
       "      <td>...</td>\n",
       "    </tr>\n",
       "    <tr>\n",
       "      <th>1451174400000000000</th>\n",
       "      <td>8.6</td>\n",
       "      <td>4.4</td>\n",
       "      <td>1.7</td>\n",
       "      <td>2.9</td>\n",
       "      <td>2015</td>\n",
       "      <td>12</td>\n",
       "      <td>27</td>\n",
       "      <td>2</td>\n",
       "    </tr>\n",
       "    <tr>\n",
       "      <th>1451260800000000000</th>\n",
       "      <td>1.5</td>\n",
       "      <td>5.0</td>\n",
       "      <td>1.7</td>\n",
       "      <td>1.3</td>\n",
       "      <td>2015</td>\n",
       "      <td>12</td>\n",
       "      <td>28</td>\n",
       "      <td>2</td>\n",
       "    </tr>\n",
       "    <tr>\n",
       "      <th>1451347200000000000</th>\n",
       "      <td>0.0</td>\n",
       "      <td>7.2</td>\n",
       "      <td>0.6</td>\n",
       "      <td>2.6</td>\n",
       "      <td>2015</td>\n",
       "      <td>12</td>\n",
       "      <td>29</td>\n",
       "      <td>1</td>\n",
       "    </tr>\n",
       "    <tr>\n",
       "      <th>1451433600000000000</th>\n",
       "      <td>0.0</td>\n",
       "      <td>5.6</td>\n",
       "      <td>-1.0</td>\n",
       "      <td>3.4</td>\n",
       "      <td>2015</td>\n",
       "      <td>12</td>\n",
       "      <td>30</td>\n",
       "      <td>4</td>\n",
       "    </tr>\n",
       "    <tr>\n",
       "      <th>1451520000000000000</th>\n",
       "      <td>0.0</td>\n",
       "      <td>5.6</td>\n",
       "      <td>-2.1</td>\n",
       "      <td>3.5</td>\n",
       "      <td>2015</td>\n",
       "      <td>12</td>\n",
       "      <td>31</td>\n",
       "      <td>4</td>\n",
       "    </tr>\n",
       "  </tbody>\n",
       "</table>\n",
       "<p>1461 rows × 8 columns</p>\n",
       "</div>"
      ],
      "text/plain": [
       "                     precipitation  temp_max  temp_min  wind  year  month  \\\n",
       "date                                                                        \n",
       "1325376000000000000            0.0      12.8       5.0   4.7  2012      1   \n",
       "1325462400000000000           10.9      10.6       2.8   4.5  2012      1   \n",
       "1325548800000000000            0.8      11.7       7.2   2.3  2012      1   \n",
       "1325635200000000000           20.3      12.2       5.6   4.7  2012      1   \n",
       "1325721600000000000            1.3       8.9       2.8   6.1  2012      1   \n",
       "...                            ...       ...       ...   ...   ...    ...   \n",
       "1451174400000000000            8.6       4.4       1.7   2.9  2015     12   \n",
       "1451260800000000000            1.5       5.0       1.7   1.3  2015     12   \n",
       "1451347200000000000            0.0       7.2       0.6   2.6  2015     12   \n",
       "1451433600000000000            0.0       5.6      -1.0   3.4  2015     12   \n",
       "1451520000000000000            0.0       5.6      -2.1   3.5  2015     12   \n",
       "\n",
       "                     day  label_weather  \n",
       "date                                     \n",
       "1325376000000000000    1              0  \n",
       "1325462400000000000    2              2  \n",
       "1325548800000000000    3              2  \n",
       "1325635200000000000    4              2  \n",
       "1325721600000000000    5              2  \n",
       "...                  ...            ...  \n",
       "1451174400000000000   27              2  \n",
       "1451260800000000000   28              2  \n",
       "1451347200000000000   29              1  \n",
       "1451433600000000000   30              4  \n",
       "1451520000000000000   31              4  \n",
       "\n",
       "[1461 rows x 8 columns]"
      ]
     },
     "execution_count": 131,
     "metadata": {},
     "output_type": "execute_result"
    }
   ],
   "source": [
    "data_frame_final = data_frame.drop(['weather'],axis=1).set_index('date')\n",
    "data_frame_final"
   ]
  },
  {
   "cell_type": "code",
   "execution_count": 132,
   "id": "82d5cf20",
   "metadata": {},
   "outputs": [
    {
     "data": {
      "text/html": [
       "<div>\n",
       "<style scoped>\n",
       "    .dataframe tbody tr th:only-of-type {\n",
       "        vertical-align: middle;\n",
       "    }\n",
       "\n",
       "    .dataframe tbody tr th {\n",
       "        vertical-align: top;\n",
       "    }\n",
       "\n",
       "    .dataframe thead th {\n",
       "        text-align: right;\n",
       "    }\n",
       "</style>\n",
       "<table border=\"1\" class=\"dataframe\">\n",
       "  <thead>\n",
       "    <tr style=\"text-align: right;\">\n",
       "      <th></th>\n",
       "      <th>precipitation</th>\n",
       "      <th>temp_max</th>\n",
       "      <th>temp_min</th>\n",
       "      <th>wind</th>\n",
       "      <th>year</th>\n",
       "      <th>month</th>\n",
       "      <th>day</th>\n",
       "      <th>label_weather</th>\n",
       "    </tr>\n",
       "    <tr>\n",
       "      <th>date</th>\n",
       "      <th></th>\n",
       "      <th></th>\n",
       "      <th></th>\n",
       "      <th></th>\n",
       "      <th></th>\n",
       "      <th></th>\n",
       "      <th></th>\n",
       "      <th></th>\n",
       "    </tr>\n",
       "  </thead>\n",
       "  <tbody>\n",
       "    <tr>\n",
       "      <th>2012-01-01</th>\n",
       "      <td>0.0</td>\n",
       "      <td>12.8</td>\n",
       "      <td>5.0</td>\n",
       "      <td>4.7</td>\n",
       "      <td>2012</td>\n",
       "      <td>1</td>\n",
       "      <td>1</td>\n",
       "      <td>0</td>\n",
       "    </tr>\n",
       "    <tr>\n",
       "      <th>2012-01-02</th>\n",
       "      <td>10.9</td>\n",
       "      <td>10.6</td>\n",
       "      <td>2.8</td>\n",
       "      <td>4.5</td>\n",
       "      <td>2012</td>\n",
       "      <td>1</td>\n",
       "      <td>2</td>\n",
       "      <td>1</td>\n",
       "    </tr>\n",
       "    <tr>\n",
       "      <th>2012-01-03</th>\n",
       "      <td>0.8</td>\n",
       "      <td>11.7</td>\n",
       "      <td>7.2</td>\n",
       "      <td>2.3</td>\n",
       "      <td>2012</td>\n",
       "      <td>1</td>\n",
       "      <td>3</td>\n",
       "      <td>1</td>\n",
       "    </tr>\n",
       "    <tr>\n",
       "      <th>2012-01-04</th>\n",
       "      <td>20.3</td>\n",
       "      <td>12.2</td>\n",
       "      <td>5.6</td>\n",
       "      <td>4.7</td>\n",
       "      <td>2012</td>\n",
       "      <td>1</td>\n",
       "      <td>4</td>\n",
       "      <td>1</td>\n",
       "    </tr>\n",
       "    <tr>\n",
       "      <th>2012-01-05</th>\n",
       "      <td>1.3</td>\n",
       "      <td>8.9</td>\n",
       "      <td>2.8</td>\n",
       "      <td>6.1</td>\n",
       "      <td>2012</td>\n",
       "      <td>1</td>\n",
       "      <td>5</td>\n",
       "      <td>1</td>\n",
       "    </tr>\n",
       "    <tr>\n",
       "      <th>...</th>\n",
       "      <td>...</td>\n",
       "      <td>...</td>\n",
       "      <td>...</td>\n",
       "      <td>...</td>\n",
       "      <td>...</td>\n",
       "      <td>...</td>\n",
       "      <td>...</td>\n",
       "      <td>...</td>\n",
       "    </tr>\n",
       "    <tr>\n",
       "      <th>2015-12-27</th>\n",
       "      <td>8.6</td>\n",
       "      <td>4.4</td>\n",
       "      <td>1.7</td>\n",
       "      <td>2.9</td>\n",
       "      <td>2015</td>\n",
       "      <td>12</td>\n",
       "      <td>27</td>\n",
       "      <td>1</td>\n",
       "    </tr>\n",
       "    <tr>\n",
       "      <th>2015-12-28</th>\n",
       "      <td>1.5</td>\n",
       "      <td>5.0</td>\n",
       "      <td>1.7</td>\n",
       "      <td>1.3</td>\n",
       "      <td>2015</td>\n",
       "      <td>12</td>\n",
       "      <td>28</td>\n",
       "      <td>1</td>\n",
       "    </tr>\n",
       "    <tr>\n",
       "      <th>2015-12-29</th>\n",
       "      <td>0.0</td>\n",
       "      <td>7.2</td>\n",
       "      <td>0.6</td>\n",
       "      <td>2.6</td>\n",
       "      <td>2015</td>\n",
       "      <td>12</td>\n",
       "      <td>29</td>\n",
       "      <td>4</td>\n",
       "    </tr>\n",
       "    <tr>\n",
       "      <th>2015-12-30</th>\n",
       "      <td>0.0</td>\n",
       "      <td>5.6</td>\n",
       "      <td>-1.0</td>\n",
       "      <td>3.4</td>\n",
       "      <td>2015</td>\n",
       "      <td>12</td>\n",
       "      <td>30</td>\n",
       "      <td>2</td>\n",
       "    </tr>\n",
       "    <tr>\n",
       "      <th>2015-12-31</th>\n",
       "      <td>0.0</td>\n",
       "      <td>5.6</td>\n",
       "      <td>-2.1</td>\n",
       "      <td>3.5</td>\n",
       "      <td>2015</td>\n",
       "      <td>12</td>\n",
       "      <td>31</td>\n",
       "      <td>2</td>\n",
       "    </tr>\n",
       "  </tbody>\n",
       "</table>\n",
       "<p>1461 rows × 8 columns</p>\n",
       "</div>"
      ],
      "text/plain": [
       "            precipitation  temp_max  temp_min  wind  year  month  day  \\\n",
       "date                                                                    \n",
       "2012-01-01            0.0      12.8       5.0   4.7  2012      1    1   \n",
       "2012-01-02           10.9      10.6       2.8   4.5  2012      1    2   \n",
       "2012-01-03            0.8      11.7       7.2   2.3  2012      1    3   \n",
       "2012-01-04           20.3      12.2       5.6   4.7  2012      1    4   \n",
       "2012-01-05            1.3       8.9       2.8   6.1  2012      1    5   \n",
       "...                   ...       ...       ...   ...   ...    ...  ...   \n",
       "2015-12-27            8.6       4.4       1.7   2.9  2015     12   27   \n",
       "2015-12-28            1.5       5.0       1.7   1.3  2015     12   28   \n",
       "2015-12-29            0.0       7.2       0.6   2.6  2015     12   29   \n",
       "2015-12-30            0.0       5.6      -1.0   3.4  2015     12   30   \n",
       "2015-12-31            0.0       5.6      -2.1   3.5  2015     12   31   \n",
       "\n",
       "            label_weather  \n",
       "date                       \n",
       "2012-01-01              0  \n",
       "2012-01-02              1  \n",
       "2012-01-03              1  \n",
       "2012-01-04              1  \n",
       "2012-01-05              1  \n",
       "...                   ...  \n",
       "2015-12-27              1  \n",
       "2015-12-28              1  \n",
       "2015-12-29              4  \n",
       "2015-12-30              2  \n",
       "2015-12-31              2  \n",
       "\n",
       "[1461 rows x 8 columns]"
      ]
     },
     "execution_count": 132,
     "metadata": {},
     "output_type": "execute_result"
    }
   ],
   "source": [
    "# Label encoding of 'weather' attribute for further computations\n",
    "from sklearn.preprocessing import LabelEncoder\n",
    "def date_time(data_frame) :\n",
    "    \n",
    "    data_frame['date'] = pd.to_datetime(data_frame['date'])\n",
    "    data_frame['year'] = data_frame['date'].dt.year #Generate Year Column\n",
    "    data_frame['month'] = data_frame['date'].dt.month #Generate Month Column\n",
    "    data_frame['day'] = data_frame['date'].dt.day\n",
    "    \n",
    "    return data_frame\n",
    "\n",
    "data_frame_final = date_time(data_frame)\n",
    "data_frame_final\n",
    "\n",
    "data_frame['label_weather'] = LabelEncoder().fit_transform(data_frame['weather'])\n",
    "data_frame.head(10)\n",
    "\n",
    "data_frame_final = data_frame_final.drop(['weather'],axis=1).set_index('date')\n",
    "data_frame_final"
   ]
  },
  {
   "cell_type": "code",
   "execution_count": 186,
   "id": "e748e81b",
   "metadata": {},
   "outputs": [
    {
     "name": "stderr",
     "output_type": "stream",
     "text": [
      "/Users/aidenliang/anaconda3/lib/python3.10/site-packages/imblearn/utils/_validation.py:313: UserWarning: After over-sampling, the number of samples (1000) in class 0 will be larger than the number of samples in the majority class (class #1 -> 641)\n",
      "  warnings.warn(\n",
      "/Users/aidenliang/anaconda3/lib/python3.10/site-packages/imblearn/utils/_validation.py:313: UserWarning: After over-sampling, the number of samples (1000) in class 1 will be larger than the number of samples in the majority class (class #1 -> 641)\n",
      "  warnings.warn(\n",
      "/Users/aidenliang/anaconda3/lib/python3.10/site-packages/imblearn/utils/_validation.py:313: UserWarning: After over-sampling, the number of samples (1000) in class 2 will be larger than the number of samples in the majority class (class #1 -> 641)\n",
      "  warnings.warn(\n",
      "/Users/aidenliang/anaconda3/lib/python3.10/site-packages/imblearn/utils/_validation.py:313: UserWarning: After over-sampling, the number of samples (1000) in class 3 will be larger than the number of samples in the majority class (class #1 -> 641)\n",
      "  warnings.warn(\n",
      "/Users/aidenliang/anaconda3/lib/python3.10/site-packages/imblearn/utils/_validation.py:313: UserWarning: After over-sampling, the number of samples (2000) in class 4 will be larger than the number of samples in the majority class (class #1 -> 641)\n",
      "  warnings.warn(\n"
     ]
    }
   ],
   "source": [
    "# Store the weather_label values in y and everything other than label_weather in x\n",
    "from imblearn.over_sampling import SMOTE\n",
    "from imblearn.under_sampling import RandomUnderSampler\n",
    "\n",
    "x = data_frame_final.drop(['label_weather'], axis = 1)\n",
    "y = data_frame_final['label_weather']\n",
    "\n",
    "\n",
    "over_strategy = {0 : 1000, 1 : 1000, 2 : 1000, 3 : 1000, 4 : 2000}\n",
    "under_strategy = {0 : 1000, 1 : 1000, 2 : 1000, 3 : 1000, 4 : 2000}\n",
    "\n",
    "over_sample = SMOTE(sampling_strategy = over_strategy)\n",
    "under_sample = RandomUnderSampler(sampling_strategy = under_strategy)\n",
    "x_final,y = over_sample.fit_resample(x,y)\n",
    "x_final,y = under_sample.fit_resample(x_final, y)"
   ]
  },
  {
   "cell_type": "code",
   "execution_count": 187,
   "id": "471aced6",
   "metadata": {},
   "outputs": [
    {
     "name": "stdout",
     "output_type": "stream",
     "text": [
      "(4800, 7)\n",
      "(1200, 7)\n",
      "(4800,)\n",
      "(1200,)\n"
     ]
    }
   ],
   "source": [
    "from sklearn.model_selection import train_test_split\n",
    "x_train, x_test, y_train, y_test = train_test_split(x_final, y, test_size = 0.2, random_state = 10)\n",
    "\n",
    "print(x_train.shape)\n",
    "print(x_test.shape)\n",
    "print(y_train.shape)\n",
    "print(y_test.shape)"
   ]
  },
  {
   "cell_type": "code",
   "execution_count": 188,
   "id": "1d54c629",
   "metadata": {},
   "outputs": [
    {
     "name": "stdout",
     "output_type": "stream",
     "text": [
      "Accuracy Score on All Data : 76.0\n",
      "Accuracy Score on Train Data : 76.0\n",
      "Accuracy Score on Test Data : 77.0\n"
     ]
    }
   ],
   "source": [
    "from sklearn.metrics import accuracy_score, classification_report\n",
    "from sklearn.naive_bayes import GaussianNB\n",
    "model = GaussianNB()\n",
    "np.random.seed(10)\n",
    "model.fit(x_train,y_train)\n",
    "\n",
    "pred_all = model.predict(x_final)\n",
    "pred_train = model.predict(x_train)\n",
    "pred_test = model.predict(x_test)\n",
    "\n",
    "print(f'Accuracy Score on All Data : {round(accuracy_score(y, pred_all),2)*100}')\n",
    "print(f'Accuracy Score on Train Data : {round(accuracy_score(y_train, pred_train),2)*100}')\n",
    "print(f'Accuracy Score on Test Data : {round(accuracy_score(y_test, pred_test),2)*100}')"
   ]
  },
  {
   "cell_type": "code",
   "execution_count": 189,
   "id": "9199f21a",
   "metadata": {},
   "outputs": [
    {
     "name": "stdout",
     "output_type": "stream",
     "text": [
      "              precision    recall  f1-score   support\n",
      "\n",
      "           0       0.68      0.76      0.72      1000\n",
      "           1       0.97      0.87      0.92      1000\n",
      "           2       0.47      0.36      0.40      1000\n",
      "           3       0.93      0.97      0.95      1000\n",
      "           4       0.74      0.80      0.77      2000\n",
      "\n",
      "    accuracy                           0.76      6000\n",
      "   macro avg       0.76      0.75      0.75      6000\n",
      "weighted avg       0.75      0.76      0.75      6000\n",
      "\n"
     ]
    }
   ],
   "source": [
    "print(classification_report(y,pred_all))"
   ]
  },
  {
   "cell_type": "code",
   "execution_count": 193,
   "id": "05c8c847",
   "metadata": {},
   "outputs": [
    {
     "data": {
      "image/png": "[encoded data removed]",
      "text/plain": [
       "<Figure size 640x480 with 2 Axes>"
      ]
     },
     "metadata": {},
     "output_type": "display_data"
    }
   ],
   "source": [
    "# Create the confusion matrix\n",
    "cm = confusion_matrix(y, pred_all)\n",
    "\n",
    "ConfusionMatrixDisplay(confusion_matrix=cm).plot();"
   ]
  },
  {
   "cell_type": "code",
   "execution_count": 194,
   "id": "759855ba",
   "metadata": {},
   "outputs": [
    {
     "name": "stderr",
     "output_type": "stream",
     "text": [
      "2023-05-05 22:29:20.392632: I tensorflow/core/platform/cpu_feature_guard.cc:193] This TensorFlow binary is optimized with oneAPI Deep Neural Network Library (oneDNN) to use the following CPU instructions in performance-critical operations:  SSE4.1 SSE4.2 AVX AVX2 FMA\n",
      "To enable them in other operations, rebuild TensorFlow with the appropriate compiler flags.\n"
     ]
    }
   ],
   "source": [
    "# RNN model\n",
    "import matplotlib.pyplot as plt\n",
    "\n",
    "from sklearn.preprocessing import MinMaxScaler\n",
    "from sklearn.metrics import mean_squared_error\n",
    "\n",
    "from tensorflow.keras.models import Sequential\n",
    "from tensorflow.keras.layers import Dense, LSTM, Dropout, GRU, Bidirectional\n",
    "from tensorflow.keras.optimizers import SGD\n",
    "from tensorflow.random import set_seed\n",
    "\n",
    "set_seed(455)\n",
    "np.random.seed(455)"
   ]
  },
  {
   "cell_type": "code",
   "execution_count": 195,
   "id": "a8bf9c95",
   "metadata": {},
   "outputs": [
    {
     "name": "stdout",
     "output_type": "stream",
     "text": [
      "            precipitation  temp_max  temp_min  wind  weather\n",
      "date                                                        \n",
      "2012-01-01            0.0      12.8       5.0   4.7  drizzle\n",
      "2012-01-02           10.9      10.6       2.8   4.5     rain\n",
      "2012-01-03            0.8      11.7       7.2   2.3     rain\n",
      "2012-01-04           20.3      12.2       5.6   4.7     rain\n",
      "2012-01-05            1.3       8.9       2.8   6.1     rain\n"
     ]
    }
   ],
   "source": [
    "dataset = pd.read_csv(\n",
    "    \"weatherprediction.csv\", index_col=\"date\", parse_dates=[\"date\"]\n",
    ")\n",
    "print(dataset.head())"
   ]
  },
  {
   "cell_type": "code",
   "execution_count": 196,
   "id": "6a1d46c9",
   "metadata": {},
   "outputs": [
    {
     "name": "stdout",
     "output_type": "stream",
     "text": [
      "       precipitation     temp_max     temp_min         wind\n",
      "count    1461.000000  1461.000000  1461.000000  1461.000000\n",
      "mean        3.029432    16.439083     8.234771     3.241136\n",
      "std         6.680194     7.349758     5.023004     1.437825\n",
      "min         0.000000    -1.600000    -7.100000     0.400000\n",
      "25%         0.000000    10.600000     4.400000     2.200000\n",
      "50%         0.000000    15.600000     8.300000     3.000000\n",
      "75%         2.800000    22.200000    12.200000     4.000000\n",
      "max        55.900000    35.600000    18.300000     9.500000\n"
     ]
    }
   ],
   "source": [
    "# The .describe() function helps us analyze the data in depth.\n",
    "print(dataset.describe())"
   ]
  },
  {
   "cell_type": "code",
   "execution_count": 197,
   "id": "a08cad1d",
   "metadata": {},
   "outputs": [
    {
     "data": {
      "text/plain": [
       "precipitation    0\n",
       "temp_max         0\n",
       "temp_min         0\n",
       "wind             0\n",
       "weather          0\n",
       "dtype: int64"
      ]
     },
     "execution_count": 197,
     "metadata": {},
     "output_type": "execute_result"
    }
   ],
   "source": [
    "# By using .isna().sum() we can determine the missing values in the dataset. \n",
    "# It seems that the dataset has no missing values.\n",
    "dataset.isna().sum()"
   ]
  },
  {
   "cell_type": "code",
   "execution_count": 198,
   "id": "a6f793bc",
   "metadata": {},
   "outputs": [
    {
     "data": {
      "image/png": "[encoded data removed]",
      "text/plain": [
       "<Figure size 1600x400 with 1 Axes>"
      ]
     },
     "metadata": {},
     "output_type": "display_data"
    }
   ],
   "source": [
    "# Let’s focus on the precipitation column as we are going to use it to train the model.\n",
    "# Preciputation makes more sense for most classification models we tested.\n",
    "# The train_test_plot function takes three arguments: dataset, tstart, and tend and plots a simple line graph. \n",
    "# The tstart and tend are time limits in years. We can change these arguments to analyze specific periods. \n",
    "# The line plot is divided into two parts: train and test. \n",
    "# This will allow us to decide the distribution of the test dataset.\n",
    "tstart = 2012\n",
    "tend = 2014\n",
    "\n",
    "# Our test dataset consists of one year, 2015, and the rest of the dataset is used for training.\n",
    "\n",
    "def train_test_plot(dataset, tstart, tend):\n",
    "    dataset.loc[f\"{tstart}\":f\"{tend}\", \"precipitation\"].plot(figsize=(16, 4), legend=True)\n",
    "    dataset.loc[f\"{tend+1}\":, \"precipitation\"].plot(figsize=(16, 4), legend=True)\n",
    "    plt.legend([f\"Train (Before {tend+1})\", f\"Test ({tend+1} and beyond)\"])\n",
    "    plt.title(\"Weather Prediction\")\n",
    "    plt.show()\n",
    "\n",
    "train_test_plot(dataset,tstart,tend)"
   ]
  },
  {
   "cell_type": "code",
   "execution_count": 199,
   "id": "4ae4312c",
   "metadata": {},
   "outputs": [],
   "source": [
    "# Data Preprocessing\n",
    "def train_test_split(dataset, tstart, tend):\n",
    "    train = dataset.loc[f\"{tstart}\":f\"{tend}\", \"precipitation\"].values\n",
    "    test = dataset.loc[f\"{tend+1}\":, \"precipitation\"].values\n",
    "    return train, test\n",
    "training_set, test_set = train_test_split(dataset, tstart, tend)"
   ]
  },
  {
   "cell_type": "code",
   "execution_count": 200,
   "id": "4e3c75a0",
   "metadata": {},
   "outputs": [],
   "source": [
    "# We will use the MinMaxScaler function to standardize our training set, \n",
    "# which will help us avoid the outliers or anomalies. \n",
    "sc = MinMaxScaler(feature_range=(0, 1))\n",
    "training_set = training_set.reshape(-1, 1)\n",
    "training_set_scaled = sc.fit_transform(training_set)"
   ]
  },
  {
   "cell_type": "code",
   "execution_count": 201,
   "id": "0019b7a1",
   "metadata": {},
   "outputs": [],
   "source": [
    "# In this project, we are using 60 n_steps.\n",
    "def split_sequence(sequence, n_steps):\n",
    "    X, y = list(), list()\n",
    "    for i in range(len(sequence)):\n",
    "        end_ix = i + n_steps\n",
    "        if end_ix > len(sequence) - 1:\n",
    "            break\n",
    "        seq_x, seq_y = sequence[i:end_ix], sequence[end_ix]\n",
    "        X.append(seq_x)\n",
    "        y.append(seq_y)\n",
    "    return np.array(X), np.array(y)\n",
    "\n",
    "\n",
    "n_steps = 60\n",
    "features = 1\n",
    "# split into samples\n",
    "X_train, y_train = split_sequence(training_set_scaled, n_steps)"
   ]
  },
  {
   "cell_type": "code",
   "execution_count": 202,
   "id": "f0eefc21",
   "metadata": {},
   "outputs": [],
   "source": [
    "# Reshaping X_train for model\n",
    "# We are working with univariate series, so the number of features is one, \n",
    "# and we need to reshape the X_train to fit on the LSTM model. \n",
    "# The X_train has [samples, timesteps], and we will reshape it to [samples, timesteps, features].\n",
    "X_train = X_train.reshape(X_train.shape[0],X_train.shape[1],features)"
   ]
  },
  {
   "cell_type": "code",
   "execution_count": 203,
   "id": "8e33aee6",
   "metadata": {},
   "outputs": [
    {
     "name": "stderr",
     "output_type": "stream",
     "text": [
      "2023-05-05 22:31:03.484169: I tensorflow/core/platform/cpu_feature_guard.cc:193] This TensorFlow binary is optimized with oneAPI Deep Neural Network Library (oneDNN) to use the following CPU instructions in performance-critical operations:  SSE4.1 SSE4.2 AVX AVX2 FMA\n",
      "To enable them in other operations, rebuild TensorFlow with the appropriate compiler flags.\n"
     ]
    },
    {
     "name": "stdout",
     "output_type": "stream",
     "text": [
      "Model: \"sequential\"\n",
      "_________________________________________________________________\n",
      " Layer (type)                Output Shape              Param #   \n",
      "=================================================================\n",
      " lstm (LSTM)                 (None, 125)               63500     \n",
      "                                                                 \n",
      " dense (Dense)               (None, 1)                 126       \n",
      "                                                                 \n",
      "=================================================================\n",
      "Total params: 63,626\n",
      "Trainable params: 63,626\n",
      "Non-trainable params: 0\n",
      "_________________________________________________________________\n"
     ]
    }
   ],
   "source": [
    "# LSTM Model\n",
    "# The LSTM architecture\n",
    "model_lstm = Sequential()\n",
    "model_lstm.add(LSTM(units=125, activation=\"tanh\", input_shape=(n_steps, features)))\n",
    "model_lstm.add(Dense(units=1))\n",
    "# Compiling the model\n",
    "model_lstm.compile(optimizer=\"RMSprop\", loss=\"mse\",metrics=['accuracy'])\n",
    "\n",
    "model_lstm.summary()"
   ]
  },
  {
   "cell_type": "code",
   "execution_count": 204,
   "id": "dba9d95e",
   "metadata": {},
   "outputs": [
    {
     "name": "stdout",
     "output_type": "stream",
     "text": [
      "Epoch 1/50\n",
      "33/33 [==============================] - 6s 56ms/step - loss: 0.0133 - accuracy: 0.5772\n",
      "Epoch 2/50\n",
      "33/33 [==============================] - 2s 72ms/step - loss: 0.0128 - accuracy: 0.5772\n",
      "Epoch 3/50\n",
      "33/33 [==============================] - 2s 55ms/step - loss: 0.0126 - accuracy: 0.5772\n",
      "Epoch 4/50\n",
      "33/33 [==============================] - 2s 70ms/step - loss: 0.0125 - accuracy: 0.5772\n",
      "Epoch 5/50\n",
      "33/33 [==============================] - 2s 67ms/step - loss: 0.0125 - accuracy: 0.5772\n",
      "Epoch 6/50\n",
      "33/33 [==============================] - 2s 62ms/step - loss: 0.0124 - accuracy: 0.5772\n",
      "Epoch 7/50\n",
      "33/33 [==============================] - 2s 70ms/step - loss: 0.0125 - accuracy: 0.5772\n",
      "Epoch 8/50\n",
      "33/33 [==============================] - 3s 79ms/step - loss: 0.0124 - accuracy: 0.5772\n",
      "Epoch 9/50\n",
      "33/33 [==============================] - 2s 49ms/step - loss: 0.0125 - accuracy: 0.5772\n",
      "Epoch 10/50\n",
      "33/33 [==============================] - 2s 50ms/step - loss: 0.0124 - accuracy: 0.5772\n",
      "Epoch 11/50\n",
      "33/33 [==============================] - 2s 53ms/step - loss: 0.0124 - accuracy: 0.5772\n",
      "Epoch 12/50\n",
      "33/33 [==============================] - 2s 51ms/step - loss: 0.0123 - accuracy: 0.5772\n",
      "Epoch 13/50\n",
      "33/33 [==============================] - 2s 66ms/step - loss: 0.0124 - accuracy: 0.5772\n",
      "Epoch 14/50\n",
      "33/33 [==============================] - 3s 78ms/step - loss: 0.0124 - accuracy: 0.5772\n",
      "Epoch 15/50\n",
      "33/33 [==============================] - 3s 83ms/step - loss: 0.0124 - accuracy: 0.5772\n",
      "Epoch 16/50\n",
      "33/33 [==============================] - 2s 57ms/step - loss: 0.0124 - accuracy: 0.5772\n",
      "Epoch 17/50\n",
      "33/33 [==============================] - 2s 56ms/step - loss: 0.0124 - accuracy: 0.5772\n",
      "Epoch 18/50\n",
      "33/33 [==============================] - 2s 57ms/step - loss: 0.0124 - accuracy: 0.5772\n",
      "Epoch 19/50\n",
      "33/33 [==============================] - 2s 57ms/step - loss: 0.0123 - accuracy: 0.5772\n",
      "Epoch 20/50\n",
      "33/33 [==============================] - 2s 58ms/step - loss: 0.0124 - accuracy: 0.5772\n",
      "Epoch 21/50\n",
      "33/33 [==============================] - 2s 63ms/step - loss: 0.0123 - accuracy: 0.5772\n",
      "Epoch 22/50\n",
      "33/33 [==============================] - 3s 85ms/step - loss: 0.0123 - accuracy: 0.5772\n",
      "Epoch 23/50\n",
      "33/33 [==============================] - 2s 62ms/step - loss: 0.0124 - accuracy: 0.5772\n",
      "Epoch 24/50\n",
      "33/33 [==============================] - 2s 50ms/step - loss: 0.0123 - accuracy: 0.5772\n",
      "Epoch 25/50\n",
      "33/33 [==============================] - 2s 51ms/step - loss: 0.0123 - accuracy: 0.5772\n",
      "Epoch 26/50\n",
      "33/33 [==============================] - 2s 63ms/step - loss: 0.0123 - accuracy: 0.5772\n",
      "Epoch 27/50\n",
      "33/33 [==============================] - 2s 60ms/step - loss: 0.0123 - accuracy: 0.5772\n",
      "Epoch 28/50\n",
      "33/33 [==============================] - 2s 57ms/step - loss: 0.0123 - accuracy: 0.5772\n",
      "Epoch 29/50\n",
      "33/33 [==============================] - 2s 71ms/step - loss: 0.0123 - accuracy: 0.5772\n",
      "Epoch 30/50\n",
      "33/33 [==============================] - 3s 88ms/step - loss: 0.0123 - accuracy: 0.5772\n",
      "Epoch 31/50\n",
      "33/33 [==============================] - 2s 71ms/step - loss: 0.0123 - accuracy: 0.5772\n",
      "Epoch 32/50\n",
      "33/33 [==============================] - 2s 65ms/step - loss: 0.0122 - accuracy: 0.5772\n",
      "Epoch 33/50\n",
      "33/33 [==============================] - 2s 68ms/step - loss: 0.0123 - accuracy: 0.5772\n",
      "Epoch 34/50\n",
      "33/33 [==============================] - 3s 92ms/step - loss: 0.0122 - accuracy: 0.5772\n",
      "Epoch 35/50\n",
      "33/33 [==============================] - 2s 62ms/step - loss: 0.0122 - accuracy: 0.5772\n",
      "Epoch 36/50\n",
      "33/33 [==============================] - 2s 65ms/step - loss: 0.0122 - accuracy: 0.5772\n",
      "Epoch 37/50\n",
      "33/33 [==============================] - 3s 77ms/step - loss: 0.0123 - accuracy: 0.5772\n",
      "Epoch 38/50\n",
      "33/33 [==============================] - 4s 126ms/step - loss: 0.0123 - accuracy: 0.5772\n",
      "Epoch 39/50\n",
      "33/33 [==============================] - 5s 153ms/step - loss: 0.0122 - accuracy: 0.5772\n",
      "Epoch 40/50\n",
      "33/33 [==============================] - 5s 143ms/step - loss: 0.0122 - accuracy: 0.5772\n",
      "Epoch 41/50\n",
      "33/33 [==============================] - 4s 123ms/step - loss: 0.0122 - accuracy: 0.5772\n",
      "Epoch 42/50\n",
      "33/33 [==============================] - 4s 109ms/step - loss: 0.0122 - accuracy: 0.5772\n",
      "Epoch 43/50\n",
      "33/33 [==============================] - 4s 118ms/step - loss: 0.0122 - accuracy: 0.5772\n",
      "Epoch 44/50\n",
      "33/33 [==============================] - 5s 161ms/step - loss: 0.0122 - accuracy: 0.5772\n",
      "Epoch 45/50\n",
      "33/33 [==============================] - 4s 118ms/step - loss: 0.0122 - accuracy: 0.5772\n",
      "Epoch 46/50\n",
      "33/33 [==============================] - 4s 124ms/step - loss: 0.0122 - accuracy: 0.5772\n",
      "Epoch 47/50\n",
      "33/33 [==============================] - 4s 116ms/step - loss: 0.0122 - accuracy: 0.5772\n",
      "Epoch 48/50\n",
      "33/33 [==============================] - 4s 118ms/step - loss: 0.0122 - accuracy: 0.5772\n",
      "Epoch 49/50\n",
      "33/33 [==============================] - 3s 106ms/step - loss: 0.0121 - accuracy: 0.5772\n",
      "Epoch 50/50\n",
      "33/33 [==============================] - 3s 93ms/step - loss: 0.0122 - accuracy: 0.5772\n"
     ]
    },
    {
     "data": {
      "text/plain": [
       "<keras.callbacks.History at 0x7fe462097820>"
      ]
     },
     "execution_count": 204,
     "metadata": {},
     "output_type": "execute_result"
    }
   ],
   "source": [
    "# The model will train on 50 epochs with 32 batch sizes. \n",
    "model_lstm.fit(X_train, y_train, epochs=50, batch_size=32)"
   ]
  },
  {
   "cell_type": "code",
   "execution_count": 205,
   "id": "759af416",
   "metadata": {},
   "outputs": [
    {
     "name": "stdout",
     "output_type": "stream",
     "text": [
      "12/12 [==============================] - 1s 23ms/step\n"
     ]
    }
   ],
   "source": [
    "model_lstm.save('weatherprediction.h5')\n",
    "\n",
    "# Results\n",
    "# We are going to repeat preprocessing and normalize the test set. \n",
    "# First of all we will transform then split the dataset into samples, reshape it, predict, \n",
    "# and inverse transform the predictions into standard form.\n",
    "dataset_total = dataset.loc[:,\"precipitation\"]\n",
    "inputs = dataset_total[len(dataset_total) - len(test_set) - n_steps :].values\n",
    "inputs = inputs.reshape(-1, 1)\n",
    "#scaling\n",
    "inputs = sc.transform(inputs)\n",
    "\n",
    "# Split into samples\n",
    "X_test, y_test = split_sequence(inputs, n_steps)\n",
    "# reshape\n",
    "X_test = X_test.reshape(X_test.shape[0], X_test.shape[1], features)\n",
    "#prediction\n",
    "predicted_weather = model_lstm.predict(X_test)\n",
    "#inverse transform the values\n",
    "predicted_weather = sc.inverse_transform(predicted_weather)"
   ]
  },
  {
   "cell_type": "code",
   "execution_count": 206,
   "id": "cde7bf76",
   "metadata": {},
   "outputs": [],
   "source": [
    "# The plot_predictions function will plot a real versus predicted line chart. \n",
    "# This will help us visualize the difference between actual and predicted values.\n",
    "\n",
    "def plot_predictions(test, predicted):\n",
    "    plt.plot(test, color=\"gray\", label=\"Real\")\n",
    "    plt.plot(predicted, color=\"red\", label=\"Predicted\")\n",
    "    plt.title(\"Weather Prediction\")\n",
    "    plt.xlabel(\"Time\")\n",
    "    plt.ylabel(\"Weather\")\n",
    "    plt.legend()\n",
    "    plt.show()\n",
    "\n",
    "# The return_rmse function takes in test and predicted arguments \n",
    "# and prints out the root mean square error (rmse) metric.\n",
    "\n",
    "def return_rmse(test, predicted):\n",
    "    rmse = np.sqrt(mean_squared_error(test, predicted))\n",
    "    print(\"The root mean squared error is {:.2f}.\".format(rmse))"
   ]
  },
  {
   "cell_type": "code",
   "execution_count": 207,
   "id": "a1ceda2d",
   "metadata": {},
   "outputs": [
    {
     "data": {
      "image/png": "[encoded data removed]",
      "text/plain": [
       "<Figure size 640x480 with 1 Axes>"
      ]
     },
     "metadata": {},
     "output_type": "display_data"
    }
   ],
   "source": [
    "# According to the line plot below, the single-layered LSTM model has performed well.\n",
    "plot_predictions(test_set,predicted_weather)"
   ]
  },
  {
   "cell_type": "code",
   "execution_count": 208,
   "id": "9ce84eb5",
   "metadata": {},
   "outputs": [
    {
     "name": "stdout",
     "output_type": "stream",
     "text": [
      "The root mean squared error is 6.98.\n"
     ]
    }
   ],
   "source": [
    "return_rmse(test_set,predicted_weather)"
   ]
  },
  {
   "cell_type": "code",
   "execution_count": 209,
   "id": "93453bfa",
   "metadata": {},
   "outputs": [
    {
     "name": "stdout",
     "output_type": "stream",
     "text": [
      "Shape of Label tensor:  (365, 1)\n"
     ]
    }
   ],
   "source": [
    "# converting categorical variables in y_train to numerical variables\n",
    "\n",
    "print('Shape of Label tensor: ', y_test.shape)"
   ]
  },
  {
   "cell_type": "code",
   "execution_count": 210,
   "id": "d831952d",
   "metadata": {},
   "outputs": [
    {
     "name": "stdout",
     "output_type": "stream",
     "text": [
      "12/12 [==============================] - 1s 25ms/step - loss: 0.0166 - accuracy: 0.6055\n",
      "[0.016631754115223885, 0.6054794788360596]\n",
      "Test accuracy:  60.54794788360596 %\n"
     ]
    }
   ],
   "source": [
    "# model evaluation\n",
    "from keras.models import load_model\n",
    "\n",
    "model = load_model('weatherprediction.h5')\n",
    "scores = model.evaluate(X_test, y_test)\n",
    "print(scores)\n",
    "LSTM_accuracy = scores[1]*100\n",
    "\n",
    "print('Test accuracy: ', scores[1]*100, '%')"
   ]
  },
  {
   "cell_type": "code",
   "execution_count": 211,
   "id": "7ffa7560",
   "metadata": {},
   "outputs": [],
   "source": [
    "# Therefore, LSTM model has accuracy 0.6054"
   ]
  },
  {
   "cell_type": "code",
   "execution_count": 212,
   "id": "1190ac45",
   "metadata": {},
   "outputs": [
    {
     "name": "stdout",
     "output_type": "stream",
     "text": [
      "Model: \"sequential_1\"\n",
      "_________________________________________________________________\n",
      " Layer (type)                Output Shape              Param #   \n",
      "=================================================================\n",
      " gru (GRU)                   (None, 125)               48000     \n",
      "                                                                 \n",
      " dense_1 (Dense)             (None, 1)                 126       \n",
      "                                                                 \n",
      "=================================================================\n",
      "Total params: 48,126\n",
      "Trainable params: 48,126\n",
      "Non-trainable params: 0\n",
      "_________________________________________________________________\n"
     ]
    }
   ],
   "source": [
    "# GRU Model\n",
    "# We are going to keep everything the same and just replace the LSTM layer with the GRU layer to properly compare the results. \n",
    "# The model structure contains a single GRU layer with 125 units and an output layer.\n",
    "model_gru = Sequential()\n",
    "model_gru.add(GRU(units=125, activation=\"tanh\", input_shape=(n_steps, features)))\n",
    "model_gru.add(Dense(units=1))\n",
    "# Compiling the RNN\n",
    "model_gru.compile(optimizer=\"RMSprop\", loss=\"mse\",metrics=['accuracy'])\n",
    "\n",
    "model_gru.summary()"
   ]
  },
  {
   "cell_type": "code",
   "execution_count": 213,
   "id": "3cd423df",
   "metadata": {},
   "outputs": [
    {
     "name": "stdout",
     "output_type": "stream",
     "text": [
      "Epoch 1/50\n",
      "33/33 [==============================] - 6s 83ms/step - loss: 0.0132 - accuracy: 0.5772\n",
      "Epoch 2/50\n",
      "33/33 [==============================] - 3s 82ms/step - loss: 0.0127 - accuracy: 0.5772\n",
      "Epoch 3/50\n",
      "33/33 [==============================] - 2s 73ms/step - loss: 0.0126 - accuracy: 0.5772\n",
      "Epoch 4/50\n",
      "33/33 [==============================] - 2s 52ms/step - loss: 0.0126 - accuracy: 0.5772\n",
      "Epoch 5/50\n",
      "33/33 [==============================] - 2s 53ms/step - loss: 0.0126 - accuracy: 0.5772\n",
      "Epoch 6/50\n",
      "33/33 [==============================] - 2s 60ms/step - loss: 0.0125 - accuracy: 0.5772\n",
      "Epoch 7/50\n",
      "33/33 [==============================] - 2s 55ms/step - loss: 0.0125 - accuracy: 0.5772\n",
      "Epoch 8/50\n",
      "33/33 [==============================] - 3s 93ms/step - loss: 0.0125 - accuracy: 0.5772\n",
      "Epoch 9/50\n",
      "33/33 [==============================] - 4s 111ms/step - loss: 0.0126 - accuracy: 0.5772\n",
      "Epoch 10/50\n",
      "33/33 [==============================] - 4s 116ms/step - loss: 0.0125 - accuracy: 0.5772\n",
      "Epoch 11/50\n",
      "33/33 [==============================] - 2s 67ms/step - loss: 0.0125 - accuracy: 0.5772\n",
      "Epoch 12/50\n",
      "33/33 [==============================] - 3s 78ms/step - loss: 0.0125 - accuracy: 0.5772\n",
      "Epoch 13/50\n",
      "33/33 [==============================] - 3s 89ms/step - loss: 0.0125 - accuracy: 0.5772\n",
      "Epoch 14/50\n",
      "33/33 [==============================] - 3s 93ms/step - loss: 0.0125 - accuracy: 0.5772\n",
      "Epoch 15/50\n",
      "33/33 [==============================] - 3s 97ms/step - loss: 0.0125 - accuracy: 0.5772\n",
      "Epoch 16/50\n",
      "33/33 [==============================] - 3s 86ms/step - loss: 0.0125 - accuracy: 0.5772\n",
      "Epoch 17/50\n",
      "33/33 [==============================] - 3s 80ms/step - loss: 0.0125 - accuracy: 0.5772\n",
      "Epoch 18/50\n",
      "33/33 [==============================] - 3s 77ms/step - loss: 0.0125 - accuracy: 0.5772\n",
      "Epoch 19/50\n",
      "33/33 [==============================] - 3s 97ms/step - loss: 0.0124 - accuracy: 0.5772\n",
      "Epoch 20/50\n",
      "33/33 [==============================] - 3s 90ms/step - loss: 0.0125 - accuracy: 0.5772\n",
      "Epoch 21/50\n",
      "33/33 [==============================] - 2s 64ms/step - loss: 0.0124 - accuracy: 0.5772\n",
      "Epoch 22/50\n",
      "33/33 [==============================] - 2s 57ms/step - loss: 0.0124 - accuracy: 0.5772\n",
      "Epoch 23/50\n",
      "33/33 [==============================] - 2s 62ms/step - loss: 0.0124 - accuracy: 0.5772\n",
      "Epoch 24/50\n",
      "33/33 [==============================] - 2s 61ms/step - loss: 0.0124 - accuracy: 0.5772\n",
      "Epoch 25/50\n",
      "33/33 [==============================] - 2s 69ms/step - loss: 0.0123 - accuracy: 0.5772\n",
      "Epoch 26/50\n",
      "33/33 [==============================] - 3s 76ms/step - loss: 0.0123 - accuracy: 0.5772\n",
      "Epoch 27/50\n",
      "33/33 [==============================] - 3s 76ms/step - loss: 0.0124 - accuracy: 0.5772\n",
      "Epoch 28/50\n",
      "33/33 [==============================] - 2s 48ms/step - loss: 0.0124 - accuracy: 0.5772\n",
      "Epoch 29/50\n",
      "33/33 [==============================] - 2s 47ms/step - loss: 0.0124 - accuracy: 0.5772\n",
      "Epoch 30/50\n",
      "33/33 [==============================] - 2s 48ms/step - loss: 0.0124 - accuracy: 0.5772\n",
      "Epoch 31/50\n",
      "33/33 [==============================] - 2s 49ms/step - loss: 0.0124 - accuracy: 0.5772\n",
      "Epoch 32/50\n",
      "33/33 [==============================] - 2s 63ms/step - loss: 0.0123 - accuracy: 0.5772\n",
      "Epoch 33/50\n",
      "33/33 [==============================] - 3s 92ms/step - loss: 0.0123 - accuracy: 0.5772\n",
      "Epoch 34/50\n",
      "33/33 [==============================] - 4s 119ms/step - loss: 0.0125 - accuracy: 0.5772\n",
      "Epoch 35/50\n",
      "33/33 [==============================] - 3s 80ms/step - loss: 0.0123 - accuracy: 0.5772\n",
      "Epoch 36/50\n",
      "33/33 [==============================] - 2s 65ms/step - loss: 0.0123 - accuracy: 0.5772\n",
      "Epoch 37/50\n",
      "33/33 [==============================] - 2s 53ms/step - loss: 0.0123 - accuracy: 0.5772\n",
      "Epoch 38/50\n",
      "33/33 [==============================] - 2s 54ms/step - loss: 0.0124 - accuracy: 0.5772\n",
      "Epoch 39/50\n",
      "33/33 [==============================] - 2s 55ms/step - loss: 0.0123 - accuracy: 0.5772\n",
      "Epoch 40/50\n",
      "33/33 [==============================] - 2s 68ms/step - loss: 0.0123 - accuracy: 0.5772\n",
      "Epoch 41/50\n",
      "33/33 [==============================] - 3s 76ms/step - loss: 0.0123 - accuracy: 0.5772\n",
      "Epoch 42/50\n",
      "33/33 [==============================] - 2s 56ms/step - loss: 0.0123 - accuracy: 0.5772\n",
      "Epoch 43/50\n",
      "33/33 [==============================] - 2s 57ms/step - loss: 0.0123 - accuracy: 0.5772\n",
      "Epoch 44/50\n",
      "33/33 [==============================] - 2s 61ms/step - loss: 0.0123 - accuracy: 0.5772\n",
      "Epoch 45/50\n",
      "33/33 [==============================] - 2s 58ms/step - loss: 0.0124 - accuracy: 0.5772\n",
      "Epoch 46/50\n",
      "33/33 [==============================] - 2s 72ms/step - loss: 0.0123 - accuracy: 0.5772\n",
      "Epoch 47/50\n",
      "33/33 [==============================] - 2s 60ms/step - loss: 0.0122 - accuracy: 0.5772\n",
      "Epoch 48/50\n",
      "33/33 [==============================] - 3s 92ms/step - loss: 0.0122 - accuracy: 0.5772\n",
      "Epoch 49/50\n",
      "33/33 [==============================] - 2s 71ms/step - loss: 0.0122 - accuracy: 0.5772\n",
      "Epoch 50/50\n",
      "33/33 [==============================] - 2s 56ms/step - loss: 0.0123 - accuracy: 0.5772\n"
     ]
    },
    {
     "data": {
      "text/plain": [
       "<keras.callbacks.History at 0x7fe4666924a0>"
      ]
     },
     "execution_count": 213,
     "metadata": {},
     "output_type": "execute_result"
    }
   ],
   "source": [
    "# The model has successfully trained with 50 epochs and a batch size of 32.\n",
    "model_gru.fit(X_train, y_train, epochs=50, batch_size=32)\n"
   ]
  },
  {
   "cell_type": "code",
   "execution_count": 221,
   "id": "855c2899",
   "metadata": {},
   "outputs": [
    {
     "name": "stdout",
     "output_type": "stream",
     "text": [
      "12/12 [==============================] - 0s 18ms/step\n"
     ]
    },
    {
     "data": {
      "image/png": "[encoded data removed]",
      "text/plain": [
       "<Figure size 640x480 with 1 Axes>"
      ]
     },
     "metadata": {},
     "output_type": "display_data"
    }
   ],
   "source": [
    "model_gru.save('GRU_prediction.h5')\n",
    "GRU_predicted_weather = model_gru.predict(X_test)\n",
    "GRU_predicted_weather = sc.inverse_transform(GRU_predicted_weather)\n",
    "plot_predictions(test_set, GRU_predicted_weather)"
   ]
  },
  {
   "cell_type": "code",
   "execution_count": 222,
   "id": "b10d7c97",
   "metadata": {},
   "outputs": [
    {
     "name": "stdout",
     "output_type": "stream",
     "text": [
      "The root mean squared error is 6.98.\n"
     ]
    }
   ],
   "source": [
    "return_rmse(test_set,GRU_predicted_weather)\n"
   ]
  },
  {
   "cell_type": "code",
   "execution_count": 223,
   "id": "908de96e",
   "metadata": {},
   "outputs": [
    {
     "name": "stdout",
     "output_type": "stream",
     "text": [
      "12/12 [==============================] - 1s 19ms/step - loss: 0.0167 - accuracy: 0.6055\n",
      "0.6054794788360596\n",
      "GRU Test accuracy:  60.54794788360596 %\n"
     ]
    }
   ],
   "source": [
    "model2 = load_model('GRU_prediction.h5')\n",
    "scores2 = model2.evaluate(X_test, y_test)\n",
    "print(scores2[1])\n",
    "GRU_accuracy = scores2[1]*100\n",
    "print('GRU Test accuracy: ', scores2[1]*100, '%')"
   ]
  },
  {
   "cell_type": "code",
   "execution_count": 224,
   "id": "edeb463f",
   "metadata": {},
   "outputs": [],
   "source": [
    "# In conclusion, GRU model and LSTM model are the same since it has the same mean squared error and accuracy."
   ]
  },
  {
   "cell_type": "code",
   "execution_count": null,
   "id": "4c775011",
   "metadata": {},
   "outputs": [],
   "source": []
  }
 ],
 "metadata": {
  "kernelspec": {
   "display_name": "Python 3 (ipykernel)",
   "language": "python",
   "name": "python3"
  },
  "language_info": {
   "codemirror_mode": {
    "name": "ipython",
    "version": 3
   },
   "file_extension": ".py",
   "mimetype": "text/x-python",
   "name": "python",
   "nbconvert_exporter": "python",
   "pygments_lexer": "ipython3",
   "version": "3.10.9"
  }
 },
 "nbformat": 4,
 "nbformat_minor": 5
}
